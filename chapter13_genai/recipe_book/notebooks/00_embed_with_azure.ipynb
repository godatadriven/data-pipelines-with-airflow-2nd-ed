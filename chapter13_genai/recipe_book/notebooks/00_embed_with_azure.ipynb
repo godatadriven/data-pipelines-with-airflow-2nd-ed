{
 "cells": [
  {
   "cell_type": "code",
   "execution_count": 38,
   "metadata": {},
   "outputs": [],
   "source": [
    "import pandas as pd\n",
    "import numpy as np\n",
    "import os\n",
    "import dotenv\n",
    "from weaviate.util import generate_uuid5\n",
    "\n",
    "\n",
    "import re\n",
    "from openai import AzureOpenAI\n",
    "\n",
    "\n",
    "\n",
    "dotenv.load_dotenv()\n",
    "\n",
    "AZURE_OPENAI_API_KEY = os.getenv('AZURE_OPENAI_API_KEY')\n",
    "AZURE_OPENAI_ENDPOINT = os.getenv('AZURE_OPENAI_ENDPOINT')\n",
    "\n",
    "\n",
    "# AZURE_OPEN_AI_ORGANIZATION = os.getenv('AZURE_OPEN_AI_ORGANIZATION')\n",
    "\n"
   ]
  },
  {
   "cell_type": "code",
   "execution_count": 9,
   "metadata": {},
   "outputs": [
    {
     "data": {
      "text/plain": [
       "['/home/isma/repos/book/data-pipelines-with-airflow-2nd-ed/chapter13_genai/recipe_book/sample_recipes/2024-10-14/empanadas-argentinas.txt',\n",
       " '/home/isma/repos/book/data-pipelines-with-airflow-2nd-ed/chapter13_genai/recipe_book/sample_recipes/2024-10-14/pavo-a-la-hawaiana.txt']"
      ]
     },
     "execution_count": 9,
     "metadata": {},
     "output_type": "execute_result"
    }
   ],
   "source": [
    "import fsspec\n",
    "from typing import Tuple, List\n",
    "import pandas as pd\n",
    "\n",
    "path = \"/home/isma/repos/book/data-pipelines-with-airflow-2nd-ed/chapter13_genai/recipe_book/sample_recipes/2024-10-14\"\n",
    "\n",
    "\n",
    "def list_files_from_fs(path: str) -> List[str]:\n",
    "\n",
    "    fs, base_path = fsspec.core.url_to_fs(path)\n",
    "\n",
    "    return fs.ls(base_path)\n",
    "\n",
    "files_to_process = list_files_from_fs(path)\n",
    "files_to_process"
   ]
  },
  {
   "cell_type": "code",
   "execution_count": 12,
   "metadata": {},
   "outputs": [],
   "source": [
    "def get_minio_fs(path: str) -> Tuple[fsspec.spec.AbstractFileSystem, str]:   \n",
    "\n",
    "    return fsspec.core.url_to_fs(path)\n",
    "\n",
    "def append_content(files_to_process: List[str], path:str) -> pd.DataFrame:\n",
    "\n",
    "    fs, base_path = get_minio_fs(f\"{path}\")\n",
    "    content = []    \n",
    "\n",
    "    for file in files_to_process:\n",
    "\n",
    "        filename = file.split(\"/\")[-1]\n",
    "\n",
    "        with fs.open(f\"{base_path}/{filename}\", \"rb\") as file_:\n",
    "            content.append({\"filename\": filename, \"chunk\": file_.read()})\n",
    "\n",
    "    return pd.DataFrame(content)\n"
   ]
  },
  {
   "cell_type": "code",
   "execution_count": 35,
   "metadata": {},
   "outputs": [],
   "source": [
    "def clean(df, content_col:str) -> pd.DataFrame:\n",
    "\n",
    "    df = df.assign(\n",
    "        **{content_col: lambda df: \n",
    "           df[content_col].astype(str)\n",
    "           .str.replace(\"\\n\", \" \" )\n",
    "            .str.strip()\n",
    "        }\n",
    "    )\n",
    "   \n",
    "    return df"
   ]
  },
  {
   "cell_type": "code",
   "execution_count": null,
   "metadata": {},
   "outputs": [],
   "source": []
  },
  {
   "cell_type": "code",
   "execution_count": 41,
   "metadata": {},
   "outputs": [
    {
     "data": {
      "text/html": [
       "<div>\n",
       "<style scoped>\n",
       "    .dataframe tbody tr th:only-of-type {\n",
       "        vertical-align: middle;\n",
       "    }\n",
       "\n",
       "    .dataframe tbody tr th {\n",
       "        vertical-align: top;\n",
       "    }\n",
       "\n",
       "    .dataframe thead th {\n",
       "        text-align: right;\n",
       "    }\n",
       "</style>\n",
       "<table border=\"1\" class=\"dataframe\">\n",
       "  <thead>\n",
       "    <tr style=\"text-align: right;\">\n",
       "      <th></th>\n",
       "      <th>filename</th>\n",
       "      <th>document_sha</th>\n",
       "      <th>chunk_sha</th>\n",
       "      <th>chunk</th>\n",
       "    </tr>\n",
       "  </thead>\n",
       "  <tbody>\n",
       "    <tr>\n",
       "      <th>0</th>\n",
       "      <td>empanadas-argentinas.txt</td>\n",
       "      <td>ec598303-9510-5d6e-9c5e-ccb43fcf8c4e</td>\n",
       "      <td>1e481049-3dcf-5027-87a2-420e8b8f4916</td>\n",
       "      <td>Empanadas argentinas   Ingredientes Medidas 4 ...</td>\n",
       "    </tr>\n",
       "    <tr>\n",
       "      <th>1</th>\n",
       "      <td>pavo-a-la-hawaiana.txt</td>\n",
       "      <td>3303775d-98cc-5c62-adef-be3dce52c5a4</td>\n",
       "      <td>8624bb11-23e8-5c90-bf13-7aac35a210f1</td>\n",
       "      <td>Pavo a la hawaiana   Ingredientes  1 taza de s...</td>\n",
       "    </tr>\n",
       "  </tbody>\n",
       "</table>\n",
       "</div>"
      ],
      "text/plain": [
       "                   filename                          document_sha  \\\n",
       "0  empanadas-argentinas.txt  ec598303-9510-5d6e-9c5e-ccb43fcf8c4e   \n",
       "1    pavo-a-la-hawaiana.txt  3303775d-98cc-5c62-adef-be3dce52c5a4   \n",
       "\n",
       "                              chunk_sha  \\\n",
       "0  1e481049-3dcf-5027-87a2-420e8b8f4916   \n",
       "1  8624bb11-23e8-5c90-bf13-7aac35a210f1   \n",
       "\n",
       "                                               chunk  \n",
       "0  Empanadas argentinas   Ingredientes Medidas 4 ...  \n",
       "1  Pavo a la hawaiana   Ingredientes  1 taza de s...  "
      ]
     },
     "execution_count": 41,
     "metadata": {},
     "output_type": "execute_result"
    }
   ],
   "source": [
    "\n",
    "df = (\n",
    "    append_content(files_to_process, path)\n",
    "    .pipe(clean, content_col=\"chunk\")\n",
    "    .assign( \n",
    "        document_sha = lambda df: [generate_uuid5(file) for file in df.filename],\n",
    "        chunk_sha = lambda df: [generate_uuid5(file) for file in df.chunk],\n",
    "    )\n",
    "    .reset_index(drop=True)\n",
    "    .loc[:, [\"filename\", \"document_sha\", \"chunk_sha\", \"chunk\"]]\n",
    ")\n",
    "\n",
    "df\n"
   ]
  },
  {
   "cell_type": "code",
   "execution_count": null,
   "metadata": {},
   "outputs": [],
   "source": []
  },
  {
   "cell_type": "code",
   "execution_count": null,
   "metadata": {},
   "outputs": [],
   "source": []
  },
  {
   "cell_type": "code",
   "execution_count": 11,
   "metadata": {},
   "outputs": [],
   "source": [
    "client = AzureOpenAI(\n",
    "  api_key = AZURE_OPENAI_API_KEY,  \n",
    "  api_version = \"2024-02-01\",\n",
    "  azure_endpoint = AZURE_OPENAI_ENDPOINT\n",
    ")"
   ]
  },
  {
   "cell_type": "code",
   "execution_count": 12,
   "metadata": {},
   "outputs": [],
   "source": [
    "def generate_embeddings(text, model=\"text-embedding-ada-002\"): # model = \"deployment_name\"\n",
    "    return client.embeddings.create(input = [text], model=model).data[0].embedding\n"
   ]
  },
  {
   "cell_type": "code",
   "execution_count": 13,
   "metadata": {},
   "outputs": [],
   "source": [
    "data['vector'] = data[\"chunk\"].apply(lambda x : generate_embeddings (x, model = 'text-embedding-ada-002')) # model shou"
   ]
  },
  {
   "cell_type": "code",
   "execution_count": 23,
   "metadata": {},
   "outputs": [
    {
     "data": {
      "text/plain": [
       "bytes"
      ]
     },
     "execution_count": 23,
     "metadata": {},
     "output_type": "execute_result"
    }
   ],
   "source": [
    "type(df.chunk[0])"
   ]
  }
 ],
 "metadata": {
  "kernelspec": {
   "display_name": ".venv",
   "language": "python",
   "name": "python3"
  },
  "language_info": {
   "codemirror_mode": {
    "name": "ipython",
    "version": 3
   },
   "file_extension": ".py",
   "mimetype": "text/x-python",
   "name": "python",
   "nbconvert_exporter": "python",
   "pygments_lexer": "ipython3",
   "version": "3.10.12"
  }
 },
 "nbformat": 4,
 "nbformat_minor": 2
}
