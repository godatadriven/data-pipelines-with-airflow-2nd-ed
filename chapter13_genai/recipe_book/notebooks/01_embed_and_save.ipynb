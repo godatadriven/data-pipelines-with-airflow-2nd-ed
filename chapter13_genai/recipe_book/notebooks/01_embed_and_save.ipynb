{
 "cells": [
  {
   "cell_type": "code",
   "execution_count": 1,
   "metadata": {},
   "outputs": [
    {
     "name": "stdout",
     "output_type": "stream",
     "text": [
      "True\n"
     ]
    }
   ],
   "source": [
    "import weaviate\n",
    "from weaviate.config import AdditionalConfig\n",
    "from weaviate.classes.config import Configure\n",
    "\n",
    "import json\n",
    "import pandas as pd\n",
    "import numpy as np\n",
    "import os\n",
    "import dotenv\n",
    "\n",
    "dotenv.load_dotenv()\n",
    "\n",
    "AZURE_OPENAI_API_KEY = os.getenv('AZURE_OPENAI_API_KEY')\n",
    "AZURE_OPENAI_ENDPOINT = os.getenv('AZURE_OPENAI_ENDPOINT')\n",
    "AZURE_OPENAI_API_VERSION = os.getenv('OPENAI_API_VERSION')\n",
    "AZURE_OPENAI_RESOURCE_NAME = os.getenv('AZURE_OPENAI_RESOURCE_NAME')\n",
    "\n",
    "\n",
    "client = weaviate.connect_to_local(\n",
    "    port=8083,\n",
    "    grpc_port=50051,\n",
    "    headers = {\n",
    "        \"X-Azure-Api-Key\": AZURE_OPENAI_API_KEY,\n",
    "    },\n",
    ")\n",
    "\n",
    "print(client.is_ready())\n"
   ]
  },
  {
   "cell_type": "code",
   "execution_count": 2,
   "metadata": {},
   "outputs": [
    {
     "data": {
      "text/html": [
       "<div>\n",
       "<style scoped>\n",
       "    .dataframe tbody tr th:only-of-type {\n",
       "        vertical-align: middle;\n",
       "    }\n",
       "\n",
       "    .dataframe tbody tr th {\n",
       "        vertical-align: top;\n",
       "    }\n",
       "\n",
       "    .dataframe thead th {\n",
       "        text-align: right;\n",
       "    }\n",
       "</style>\n",
       "<table border=\"1\" class=\"dataframe\">\n",
       "  <thead>\n",
       "    <tr style=\"text-align: right;\">\n",
       "      <th></th>\n",
       "      <th>filename</th>\n",
       "      <th>document_sha</th>\n",
       "      <th>chunk_sha</th>\n",
       "      <th>chunk</th>\n",
       "      <th>vector</th>\n",
       "    </tr>\n",
       "  </thead>\n",
       "  <tbody>\n",
       "    <tr>\n",
       "      <th>0</th>\n",
       "      <td>empanadas-argentinas.txt</td>\n",
       "      <td>ec598303-9510-5d6e-9c5e-ccb43fcf8c4e</td>\n",
       "      <td>c001f008-b5df-5ec0-8905-17ae645171e6</td>\n",
       "      <td>Empanadas argentinas</td>\n",
       "      <td>[-0.006259406451135874, -0.005043736658990383,...</td>\n",
       "    </tr>\n",
       "    <tr>\n",
       "      <th>1</th>\n",
       "      <td>empanadas-argentinas.txt</td>\n",
       "      <td>ec598303-9510-5d6e-9c5e-ccb43fcf8c4e</td>\n",
       "      <td>8830dfd7-1331-5221-8a08-5f8cc7c46c49</td>\n",
       "      <td>Ingredientes Medidas 4 Porciones Seleccionar t...</td>\n",
       "      <td>[-0.0013423336204141378, 0.008130612783133984,...</td>\n",
       "    </tr>\n",
       "    <tr>\n",
       "      <th>2</th>\n",
       "      <td>empanadas-argentinas.txt</td>\n",
       "      <td>ec598303-9510-5d6e-9c5e-ccb43fcf8c4e</td>\n",
       "      <td>9c95627f-1e0c-5a5d-8bdd-eb4e9cbb7da0</td>\n",
       "      <td>1 taza de cebolla, finamente picada, para el r...</td>\n",
       "      <td>[0.0017024519620463252, -0.0022656326182186604...</td>\n",
       "    </tr>\n",
       "    <tr>\n",
       "      <th>3</th>\n",
       "      <td>empanadas-argentinas.txt</td>\n",
       "      <td>ec598303-9510-5d6e-9c5e-ccb43fcf8c4e</td>\n",
       "      <td>b88038c3-6087-52c9-a2df-dffef9bff309</td>\n",
       "      <td>1 taza de huevo duro, finamente picado, para e...</td>\n",
       "      <td>[-0.004608715884387493, -0.007404274772852659,...</td>\n",
       "    </tr>\n",
       "    <tr>\n",
       "      <th>4</th>\n",
       "      <td>empanadas-argentinas.txt</td>\n",
       "      <td>ec598303-9510-5d6e-9c5e-ccb43fcf8c4e</td>\n",
       "      <td>1f433cc2-34d7-511d-addd-f8660e850f36</td>\n",
       "      <td>suficiente de harina, para extender la masa su...</td>\n",
       "      <td>[-0.014491851441562176, -0.002449954394251108,...</td>\n",
       "    </tr>\n",
       "    <tr>\n",
       "      <th>5</th>\n",
       "      <td>empanadas-argentinas.txt</td>\n",
       "      <td>ec598303-9510-5d6e-9c5e-ccb43fcf8c4e</td>\n",
       "      <td>c60774cf-e659-5237-a63e-3bd0aea3ccfb</td>\n",
       "      <td>Para el relleno de carne: calienta el aceite d...</td>\n",
       "      <td>[-0.005385186523199081, -0.007785658817738295,...</td>\n",
       "    </tr>\n",
       "    <tr>\n",
       "      <th>6</th>\n",
       "      <td>empanadas-argentinas.txt</td>\n",
       "      <td>ec598303-9510-5d6e-9c5e-ccb43fcf8c4e</td>\n",
       "      <td>b839d3a7-4daf-5460-975c-cb76ee3dc321</td>\n",
       "      <td>Para el relleno de elote: derrite la mantequil...</td>\n",
       "      <td>[-0.0181081872433424, -0.008491011336445808, -...</td>\n",
       "    </tr>\n",
       "    <tr>\n",
       "      <th>7</th>\n",
       "      <td>empanadas-argentinas.txt</td>\n",
       "      <td>ec598303-9510-5d6e-9c5e-ccb43fcf8c4e</td>\n",
       "      <td>e554b863-d17a-588f-9210-b05955c6f34b</td>\n",
       "      <td>Barniza las empanadas argentinas con el huevo ...</td>\n",
       "      <td>[0.0062514375895261765, -0.0070929154753685, -...</td>\n",
       "    </tr>\n",
       "    <tr>\n",
       "      <th>8</th>\n",
       "      <td>pavo-a-la-hawaiana.txt</td>\n",
       "      <td>3303775d-98cc-5c62-adef-be3dce52c5a4</td>\n",
       "      <td>54af8361-016d-565e-9803-dccbc11fb95d</td>\n",
       "      <td>Pavo a la hawaiana Ingredientes 1 taza de sals...</td>\n",
       "      <td>[-0.013167427852749825, -0.0001442846114514395...</td>\n",
       "    </tr>\n",
       "    <tr>\n",
       "      <th>9</th>\n",
       "      <td>pavo-a-la-hawaiana.txt</td>\n",
       "      <td>3303775d-98cc-5c62-adef-be3dce52c5a4</td>\n",
       "      <td>367213bc-c570-5935-be25-ed7993c225b8</td>\n",
       "      <td>Preparación En un bowl, combina la salsa de so...</td>\n",
       "      <td>[-0.012540347874164581, -0.019292842596769333,...</td>\n",
       "    </tr>\n",
       "    <tr>\n",
       "      <th>10</th>\n",
       "      <td>pavo-a-la-hawaiana.txt</td>\n",
       "      <td>3303775d-98cc-5c62-adef-be3dce52c5a4</td>\n",
       "      <td>c219cbf0-60d4-54ad-95b5-ed078c579dbb</td>\n",
       "      <td>Sirve el pavo a la hawaiana sobre arroz blanco...</td>\n",
       "      <td>[-0.009873228147625923, -0.01780230738222599, ...</td>\n",
       "    </tr>\n",
       "  </tbody>\n",
       "</table>\n",
       "</div>"
      ],
      "text/plain": [
       "                    filename                          document_sha  \\\n",
       "0   empanadas-argentinas.txt  ec598303-9510-5d6e-9c5e-ccb43fcf8c4e   \n",
       "1   empanadas-argentinas.txt  ec598303-9510-5d6e-9c5e-ccb43fcf8c4e   \n",
       "2   empanadas-argentinas.txt  ec598303-9510-5d6e-9c5e-ccb43fcf8c4e   \n",
       "3   empanadas-argentinas.txt  ec598303-9510-5d6e-9c5e-ccb43fcf8c4e   \n",
       "4   empanadas-argentinas.txt  ec598303-9510-5d6e-9c5e-ccb43fcf8c4e   \n",
       "5   empanadas-argentinas.txt  ec598303-9510-5d6e-9c5e-ccb43fcf8c4e   \n",
       "6   empanadas-argentinas.txt  ec598303-9510-5d6e-9c5e-ccb43fcf8c4e   \n",
       "7   empanadas-argentinas.txt  ec598303-9510-5d6e-9c5e-ccb43fcf8c4e   \n",
       "8     pavo-a-la-hawaiana.txt  3303775d-98cc-5c62-adef-be3dce52c5a4   \n",
       "9     pavo-a-la-hawaiana.txt  3303775d-98cc-5c62-adef-be3dce52c5a4   \n",
       "10    pavo-a-la-hawaiana.txt  3303775d-98cc-5c62-adef-be3dce52c5a4   \n",
       "\n",
       "                               chunk_sha  \\\n",
       "0   c001f008-b5df-5ec0-8905-17ae645171e6   \n",
       "1   8830dfd7-1331-5221-8a08-5f8cc7c46c49   \n",
       "2   9c95627f-1e0c-5a5d-8bdd-eb4e9cbb7da0   \n",
       "3   b88038c3-6087-52c9-a2df-dffef9bff309   \n",
       "4   1f433cc2-34d7-511d-addd-f8660e850f36   \n",
       "5   c60774cf-e659-5237-a63e-3bd0aea3ccfb   \n",
       "6   b839d3a7-4daf-5460-975c-cb76ee3dc321   \n",
       "7   e554b863-d17a-588f-9210-b05955c6f34b   \n",
       "8   54af8361-016d-565e-9803-dccbc11fb95d   \n",
       "9   367213bc-c570-5935-be25-ed7993c225b8   \n",
       "10  c219cbf0-60d4-54ad-95b5-ed078c579dbb   \n",
       "\n",
       "                                                chunk  \\\n",
       "0                                Empanadas argentinas   \n",
       "1   Ingredientes Medidas 4 Porciones Seleccionar t...   \n",
       "2   1 taza de cebolla, finamente picada, para el r...   \n",
       "3   1 taza de huevo duro, finamente picado, para e...   \n",
       "4   suficiente de harina, para extender la masa su...   \n",
       "5   Para el relleno de carne: calienta el aceite d...   \n",
       "6   Para el relleno de elote: derrite la mantequil...   \n",
       "7   Barniza las empanadas argentinas con el huevo ...   \n",
       "8   Pavo a la hawaiana Ingredientes 1 taza de sals...   \n",
       "9   Preparación En un bowl, combina la salsa de so...   \n",
       "10  Sirve el pavo a la hawaiana sobre arroz blanco...   \n",
       "\n",
       "                                               vector  \n",
       "0   [-0.006259406451135874, -0.005043736658990383,...  \n",
       "1   [-0.0013423336204141378, 0.008130612783133984,...  \n",
       "2   [0.0017024519620463252, -0.0022656326182186604...  \n",
       "3   [-0.004608715884387493, -0.007404274772852659,...  \n",
       "4   [-0.014491851441562176, -0.002449954394251108,...  \n",
       "5   [-0.005385186523199081, -0.007785658817738295,...  \n",
       "6   [-0.0181081872433424, -0.008491011336445808, -...  \n",
       "7   [0.0062514375895261765, -0.0070929154753685, -...  \n",
       "8   [-0.013167427852749825, -0.0001442846114514395...  \n",
       "9   [-0.012540347874164581, -0.019292842596769333,...  \n",
       "10  [-0.009873228147625923, -0.01780230738222599, ...  "
      ]
     },
     "execution_count": 2,
     "metadata": {},
     "output_type": "execute_result"
    }
   ],
   "source": [
    "data = pd.read_parquet('/home/isma/repos/book/data-pipelines-with-airflow-2nd-ed/chapter13_genai/recipe_book/notebooks/splitted_with_vectors.parquet')\n",
    "data"
   ]
  },
  {
   "cell_type": "code",
   "execution_count": 18,
   "metadata": {},
   "outputs": [
    {
     "data": {
      "text/plain": [
       "{'invertedIndexConfig': {'bm25': {'b': 0.75, 'k1': 1.2},\n",
       "  'cleanupIntervalSeconds': 60,\n",
       "  'indexNullState': False,\n",
       "  'indexPropertyLength': False,\n",
       "  'indexTimestamps': False,\n",
       "  'stopwords': {'preset': 'en'}},\n",
       " 'multiTenancyConfig': {'enabled': False,\n",
       "  'autoTenantCreation': False,\n",
       "  'autoTenantActivation': False},\n",
       " 'properties': [],\n",
       " 'replicationConfig': {'factor': 1,\n",
       "  'asyncEnabled': False,\n",
       "  'deletionStrategy': 'DeleteOnConflict'},\n",
       " 'shardingConfig': {'virtualPerPhysical': 128,\n",
       "  'desiredCount': 1,\n",
       "  'actualCount': 1,\n",
       "  'desiredVirtualCount': 128,\n",
       "  'actualVirtualCount': 128,\n",
       "  'key': '_id',\n",
       "  'strategy': 'hash',\n",
       "  'function': 'murmur3'},\n",
       " 'vectorConfig': {'vector': {'vectorizer': {'text2vec-openai': {'baseURL': 'https://slackgpt-openai-fr.openai.azure.com/',\n",
       "     'deploymentId': 'text-embedding-3-large',\n",
       "     'model': 'ada',\n",
       "     'resourceName': 'slackgpt-openai-fr',\n",
       "     'vectorizeClassName': True,\n",
       "     'properties': ['chunk']}},\n",
       "   'vectorIndexConfig': {'cleanupIntervalSeconds': 300,\n",
       "    'distanceMetric': 'cosine',\n",
       "    'dynamicEfMin': 100,\n",
       "    'dynamicEfMax': 500,\n",
       "    'dynamicEfFactor': 8,\n",
       "    'ef': -1,\n",
       "    'efConstruction': 128,\n",
       "    'filterStrategy': 'sweeping',\n",
       "    'flatSearchCutoff': 40000,\n",
       "    'maxConnections': 32,\n",
       "    'skip': False,\n",
       "    'vectorCacheMaxObjects': 1000000000000},\n",
       "   'vectorIndexType': 'hnsw'}},\n",
       " 'class': 'Recipes',\n",
       " 'moduleConfig': {}}"
      ]
     },
     "execution_count": 18,
     "metadata": {},
     "output_type": "execute_result"
    }
   ],
   "source": [
    "COLLECTION_NAME = \"recipes\"\n",
    "\n",
    "existing_collections = [item.lower() for item in list(client.collections.list_all().keys())]\n",
    "\n",
    "if COLLECTION_NAME.lower() in existing_collections:\n",
    "\n",
    "    client.collections.delete(COLLECTION_NAME)\n",
    "\n",
    "\n",
    "collection = client.collections.create(\n",
    "    COLLECTION_NAME,\n",
    "    vectorizer_config=[\n",
    "        Configure.NamedVectors.text2vec_azure_openai(\n",
    "            name=\"vector\",\n",
    "            source_properties=[\"chunk\"],\n",
    "            base_url= AZURE_OPENAI_ENDPOINT,\n",
    "            resource_name=AZURE_OPENAI_RESOURCE_NAME,\n",
    "            deployment_id=\"text-embedding-3-large\",\n",
    "        )    \n",
    "    ],\n",
    "\n",
    "\n",
    "\n",
    "\n",
    "\n",
    ")\n",
    "\n",
    "collection.config.get().to_dict()\n"
   ]
  },
  {
   "cell_type": "code",
   "execution_count": 6,
   "metadata": {},
   "outputs": [],
   "source": [
    "COLLECTION_NAME = \"recipes\"\n",
    "collection = client.collections.get(COLLECTION_NAME)\n",
    "\n",
    "\n",
    "source_objects = json.loads( \n",
    "    data\n",
    "    .drop(columns=[\"document_sha\"])\n",
    "    .to_json(orient=\"records\")\n",
    ") \n",
    "\n",
    "\n",
    "with collection.batch.dynamic() as batch:\n",
    "    for src_obj in source_objects:\n",
    "        properties_obj = {\n",
    "            \"filename\": src_obj[\"filename\"],\n",
    "            \"chunk\": src_obj[\"chunk\"],\n",
    "        }\n",
    "\n",
    "        # The model provider integration will automatically vectorize the object\n",
    "        batch.add_object(\n",
    "            properties=properties_obj,\n",
    "            uuid=src_obj[\"chunk_sha\"],\n",
    "        )\n"
   ]
  },
  {
   "cell_type": "code",
   "execution_count": 8,
   "metadata": {},
   "outputs": [
    {
     "name": "stdout",
     "output_type": "stream",
     "text": [
      "Para el relleno de carne: calienta el aceite de oliva en un sartén y agrega la cebolla, el ajo y el pimiento rojo y cocina por 5 minutos. Incorpora la carne molida, la sal, la pimienta, el orégano y el comino y cocina por 10 minutos o hasta que la carne esté muy bien cocida. Retira del fuego y mezcla con el huevo y las aceitunas. Deja enfriar.\n",
      "1 taza de huevo duro, finamente picado, para el relleno de carne 1/4 tazas de aceituna, finamente picada, para el relleno de carne 2 cucharadas de mantequilla, en cubos, para el relleno de elote 1/2 tazas de cebolla, finamente picada, para el relleno de elote 2 tazas de elote amarillo, desgranado, para el relleno de elote 2 tazas de queso manchego, rallado, para el relleno de elote suficiente de harina, para extender la masa suficiente de huevo, para barnizar\n"
     ]
    }
   ],
   "source": [
    "\n",
    "response = collection.query.near_text(\n",
    "    query=\"Como hacer empanadas\",  # The model provider integration will automatically vectorize the query\n",
    "    limit=2\n",
    ")\n",
    "\n",
    "for obj in response.objects:\n",
    "    print(obj.properties[\"chunk\"])"
   ]
  },
  {
   "cell_type": "code",
   "execution_count": 21,
   "metadata": {},
   "outputs": [
    {
     "name": "stdout",
     "output_type": "stream",
     "text": [
      "1f433cc2-34d7-511d-addd-f8660e850f36 {'filename': 'empanadas-argentinas.txt', 'chunk': 'suficiente de harina, para extender la masa suficiente de huevo, para barnizar chimichurri al gusto, para acompañar Preparación En un bowl, mezcla la harina, la sal, polvo para hornear, la mantequilla y el vinagre hasta integrar muy bien la mantequilla, después vierte el agua poco a poco y mezcla hasta formar una masa. Cuando la masa tenga una consistencia homogénea, tapa con un trapo y deja reposar por 20 minutos.'}\n",
      "367213bc-c570-5935-be25-ed7993c225b8 {'filename': 'pavo-a-la-hawaiana.txt', 'chunk': 'Preparación En un bowl, combina la salsa de soya, la cátsup, el azúcar mascabado, el almíbar de la piña, el caldo de pollo, el jengibre y el ajo. Marina las Fajitas de Pavo Dos Familias con la mezcla anterior en refrigeración durante 20 minutos. Calienta un poco de aceite en una sartén, añade la piña y las Fajitas de Pavo Dos Familias marinadas. Cocina por 15 minutos o hasta que estén bien cocidas y la marinada se espese.'}\n",
      "54af8361-016d-565e-9803-dccbc11fb95d {'filename': 'pavo-a-la-hawaiana.txt', 'chunk': 'Pavo a la hawaiana Ingredientes 1 taza de salsa de soya 1 taza de cátsup 1 taza de azúcar mascabado 1/4 tazas de jugo de piña, en almíbar 1/3 tazas de caldo de pollo 2 cucharaditas de jengibre, finamente picado 2 cucharaditas de ajo, finamente picado 1 paquete de Fajitas de Pavo Dos Familias 1 lata de piña en almíbar, en cubos arroz blanco al gusto, al vapor cilantro al gusto'}\n",
      "8830dfd7-1331-5221-8a08-5f8cc7c46c49 {'filename': 'empanadas-argentinas.txt', 'chunk': 'Ingredientes Medidas 4 Porciones Seleccionar todos los ingredientes 2 tazas de harina de trigo, para la masa 1 cucharadita de sal, para la masa 1 cucharadita de polvo para hornear, para la masa 1/2 tazas de mantequilla, en cubos y a temperatura ambiente, para la masa 1/4 tazas de vinagre blanco, para la masa 1 taza de agua de anís, para la masa 2 cucharadas de aceite de oliva, para el relleno 1 taza de cebolla, finamente picada, para el relleno de carne'}\n",
      "9c95627f-1e0c-5a5d-8bdd-eb4e9cbb7da0 {'filename': 'empanadas-argentinas.txt', 'chunk': '1 taza de cebolla, finamente picada, para el relleno de carne 1 cucharada de ajo, finamente picado, para el relleno de carne 1/4 tazas de pimiento rojo, en cubos pequeños, para el relleno de carne 2 tazas de carne molida de res, para el relleno de carne sal y pimienta al gusto 2 cucharaditas de orégano, para el relleno de carne 2 cucharaditas de comino, para el relleno de carne 1 taza de huevo duro, finamente picado, para el relleno de carne'}\n",
      "b839d3a7-4daf-5460-975c-cb76ee3dc321 {'filename': 'empanadas-argentinas.txt', 'chunk': 'Para el relleno de elote: derrite la mantequilla en un sartén a fuego medio, agrega la cebolla y cocina por 5 minutos. Añade el elote, cocina por 2 minutos y retira del fuego. Espolvorea un poco de harina sobre una superficie plana, extiende la masa y corta en círculos de 5 cm de ancho. Coloca la mitad de los discos de masa en una charola, rellena con la carne y cierra, trenzándolos. Rellena la otra mitad de la masa con elote y queso y cierra con ayuda de un tenedor.'}\n",
      "b88038c3-6087-52c9-a2df-dffef9bff309 {'filename': 'empanadas-argentinas.txt', 'chunk': '1 taza de huevo duro, finamente picado, para el relleno de carne 1/4 tazas de aceituna, finamente picada, para el relleno de carne 2 cucharadas de mantequilla, en cubos, para el relleno de elote 1/2 tazas de cebolla, finamente picada, para el relleno de elote 2 tazas de elote amarillo, desgranado, para el relleno de elote 2 tazas de queso manchego, rallado, para el relleno de elote suficiente de harina, para extender la masa suficiente de huevo, para barnizar'}\n",
      "c001f008-b5df-5ec0-8905-17ae645171e6 {'filename': 'empanadas-argentinas.txt', 'chunk': 'Empanadas argentinas'}\n",
      "c219cbf0-60d4-54ad-95b5-ed078c579dbb {'filename': 'pavo-a-la-hawaiana.txt', 'chunk': 'Sirve el pavo a la hawaiana sobre arroz blanco al vapor y decora con cilantro.'}\n",
      "c60774cf-e659-5237-a63e-3bd0aea3ccfb {'filename': 'empanadas-argentinas.txt', 'chunk': 'Para el relleno de carne: calienta el aceite de oliva en un sartén y agrega la cebolla, el ajo y el pimiento rojo y cocina por 5 minutos. Incorpora la carne molida, la sal, la pimienta, el orégano y el comino y cocina por 10 minutos o hasta que la carne esté muy bien cocida. Retira del fuego y mezcla con el huevo y las aceitunas. Deja enfriar.'}\n",
      "e554b863-d17a-588f-9210-b05955c6f34b {'filename': 'empanadas-argentinas.txt', 'chunk': 'Barniza las empanadas argentinas con el huevo y hornea a 180 °C por 30 minutos. Sirve las empanadas y acompaña con chimichurri.'}\n"
     ]
    }
   ],
   "source": [
    "for item in collection.iterator():\n",
    "    print(item.uuid, item.properties)"
   ]
  },
  {
   "cell_type": "code",
   "execution_count": 22,
   "metadata": {},
   "outputs": [
    {
     "data": {
      "text/plain": [
       "True"
      ]
     },
     "execution_count": 22,
     "metadata": {},
     "output_type": "execute_result"
    }
   ],
   "source": [
    "collection.data.delete_by_id(\n",
    "    '9c95627f-1e0c-5a5d-8bdd-eb4e9cbb7da0'\n",
    ")"
   ]
  },
  {
   "cell_type": "code",
   "execution_count": 13,
   "metadata": {},
   "outputs": [
    {
     "ename": "WeaviateQueryError",
     "evalue": "Query call with protocol GRPC search failed with message <AioRpcError of RPC that terminated with:\n\tstatus = StatusCode.UNKNOWN\n\tdetails = \"could not find class Recipes in schema\"\n\tdebug_error_string = \"UNKNOWN:Error received from peer  {grpc_message:\"could not find class Recipes in schema\", grpc_status:2, created_time:\"2024-10-25T16:31:20.36369135+02:00\"}\"\n>.",
     "output_type": "error",
     "traceback": [
      "\u001b[0;31m---------------------------------------------------------------------------\u001b[0m",
      "\u001b[0;31mAioRpcError\u001b[0m                               Traceback (most recent call last)",
      "File \u001b[0;32m~/repos/book/data-pipelines-with-airflow-2nd-ed/.venv/lib/python3.10/site-packages/weaviate/collections/grpc/query.py:798\u001b[0m, in \u001b[0;36m_QueryGRPC.__call\u001b[0;34m(self, request)\u001b[0m\n\u001b[1;32m    797\u001b[0m \u001b[38;5;28;01massert\u001b[39;00m \u001b[38;5;28mself\u001b[39m\u001b[38;5;241m.\u001b[39m_connection\u001b[38;5;241m.\u001b[39mgrpc_stub \u001b[38;5;129;01mis\u001b[39;00m \u001b[38;5;129;01mnot\u001b[39;00m \u001b[38;5;28;01mNone\u001b[39;00m\n\u001b[0;32m--> 798\u001b[0m res \u001b[38;5;241m=\u001b[39m \u001b[38;5;28;01mawait\u001b[39;00m \u001b[38;5;28mself\u001b[39m\u001b[38;5;241m.\u001b[39m_connection\u001b[38;5;241m.\u001b[39mgrpc_stub\u001b[38;5;241m.\u001b[39mSearch(\n\u001b[1;32m    799\u001b[0m     request,\n\u001b[1;32m    800\u001b[0m     metadata\u001b[38;5;241m=\u001b[39m\u001b[38;5;28mself\u001b[39m\u001b[38;5;241m.\u001b[39m_connection\u001b[38;5;241m.\u001b[39mgrpc_headers(),\n\u001b[1;32m    801\u001b[0m     timeout\u001b[38;5;241m=\u001b[39m\u001b[38;5;28mself\u001b[39m\u001b[38;5;241m.\u001b[39m_connection\u001b[38;5;241m.\u001b[39mtimeout_config\u001b[38;5;241m.\u001b[39mquery,\n\u001b[1;32m    802\u001b[0m )\n\u001b[1;32m    803\u001b[0m \u001b[38;5;28;01mreturn\u001b[39;00m cast(search_get_pb2\u001b[38;5;241m.\u001b[39mSearchReply, res)\n",
      "File \u001b[0;32m~/repos/book/data-pipelines-with-airflow-2nd-ed/.venv/lib/python3.10/site-packages/grpc/aio/_call.py:318\u001b[0m, in \u001b[0;36m_UnaryResponseMixin.__await__\u001b[0;34m(self)\u001b[0m\n\u001b[1;32m    317\u001b[0m     \u001b[38;5;28;01melse\u001b[39;00m:\n\u001b[0;32m--> 318\u001b[0m         \u001b[38;5;28;01mraise\u001b[39;00m _create_rpc_error(\n\u001b[1;32m    319\u001b[0m             \u001b[38;5;28mself\u001b[39m\u001b[38;5;241m.\u001b[39m_cython_call\u001b[38;5;241m.\u001b[39m_initial_metadata,\n\u001b[1;32m    320\u001b[0m             \u001b[38;5;28mself\u001b[39m\u001b[38;5;241m.\u001b[39m_cython_call\u001b[38;5;241m.\u001b[39m_status,\n\u001b[1;32m    321\u001b[0m         )\n\u001b[1;32m    322\u001b[0m \u001b[38;5;28;01melse\u001b[39;00m:\n",
      "\u001b[0;31mAioRpcError\u001b[0m: <AioRpcError of RPC that terminated with:\n\tstatus = StatusCode.UNKNOWN\n\tdetails = \"could not find class Recipes in schema\"\n\tdebug_error_string = \"UNKNOWN:Error received from peer  {grpc_message:\"could not find class Recipes in schema\", grpc_status:2, created_time:\"2024-10-25T16:31:20.36369135+02:00\"}\"\n>",
      "\nDuring handling of the above exception, another exception occurred:\n",
      "\u001b[0;31mWeaviateQueryError\u001b[0m                        Traceback (most recent call last)",
      "Cell \u001b[0;32mIn[13], line 1\u001b[0m\n\u001b[0;32m----> 1\u001b[0m \u001b[38;5;28;01mfor\u001b[39;00m item \u001b[38;5;129;01min\u001b[39;00m collection\u001b[38;5;241m.\u001b[39miterator():\n\u001b[1;32m      2\u001b[0m     \u001b[38;5;28mprint\u001b[39m(item\u001b[38;5;241m.\u001b[39muuid, item\u001b[38;5;241m.\u001b[39mproperties)\n",
      "File \u001b[0;32m~/repos/book/data-pipelines-with-airflow-2nd-ed/.venv/lib/python3.10/site-packages/weaviate/collections/iterator.py:59\u001b[0m, in \u001b[0;36m_ObjectIterator.__next__\u001b[0;34m(self)\u001b[0m\n\u001b[1;32m     57\u001b[0m \u001b[38;5;28;01mdef\u001b[39;00m \u001b[38;5;21m__next__\u001b[39m(\u001b[38;5;28mself\u001b[39m) \u001b[38;5;241m-\u001b[39m\u001b[38;5;241m>\u001b[39m Object[TProperties, TReferences]:\n\u001b[1;32m     58\u001b[0m     \u001b[38;5;28;01mif\u001b[39;00m \u001b[38;5;28mlen\u001b[39m(\u001b[38;5;28mself\u001b[39m\u001b[38;5;241m.\u001b[39m__iter_object_cache) \u001b[38;5;241m==\u001b[39m \u001b[38;5;241m0\u001b[39m:\n\u001b[0;32m---> 59\u001b[0m         res \u001b[38;5;241m=\u001b[39m \u001b[38;5;28;43mself\u001b[39;49m\u001b[38;5;241;43m.\u001b[39;49m\u001b[43m__query\u001b[49m\u001b[38;5;241;43m.\u001b[39;49m\u001b[43mfetch_objects\u001b[49m\u001b[43m(\u001b[49m\n\u001b[1;32m     60\u001b[0m \u001b[43m            \u001b[49m\u001b[43mlimit\u001b[49m\u001b[38;5;241;43m=\u001b[39;49m\u001b[38;5;28;43mself\u001b[39;49m\u001b[38;5;241;43m.\u001b[39;49m\u001b[43m__iter_cache_size\u001b[49m\u001b[43m,\u001b[49m\n\u001b[1;32m     61\u001b[0m \u001b[43m            \u001b[49m\u001b[43mafter\u001b[49m\u001b[38;5;241;43m=\u001b[39;49m\u001b[38;5;28;43mself\u001b[39;49m\u001b[38;5;241;43m.\u001b[39;49m\u001b[43m__iter_object_last_uuid\u001b[49m\u001b[43m,\u001b[49m\n\u001b[1;32m     62\u001b[0m \u001b[43m            \u001b[49m\u001b[43minclude_vector\u001b[49m\u001b[38;5;241;43m=\u001b[39;49m\u001b[38;5;28;43mself\u001b[39;49m\u001b[38;5;241;43m.\u001b[39;49m\u001b[43m__inputs\u001b[49m\u001b[38;5;241;43m.\u001b[39;49m\u001b[43minclude_vector\u001b[49m\u001b[43m,\u001b[49m\n\u001b[1;32m     63\u001b[0m \u001b[43m            \u001b[49m\u001b[43mreturn_metadata\u001b[49m\u001b[38;5;241;43m=\u001b[39;49m\u001b[38;5;28;43mself\u001b[39;49m\u001b[38;5;241;43m.\u001b[39;49m\u001b[43m__inputs\u001b[49m\u001b[38;5;241;43m.\u001b[39;49m\u001b[43mreturn_metadata\u001b[49m\u001b[43m,\u001b[49m\n\u001b[1;32m     64\u001b[0m \u001b[43m            \u001b[49m\u001b[43mreturn_properties\u001b[49m\u001b[38;5;241;43m=\u001b[39;49m\u001b[38;5;28;43mself\u001b[39;49m\u001b[38;5;241;43m.\u001b[39;49m\u001b[43m__inputs\u001b[49m\u001b[38;5;241;43m.\u001b[39;49m\u001b[43mreturn_properties\u001b[49m\u001b[43m,\u001b[49m\n\u001b[1;32m     65\u001b[0m \u001b[43m            \u001b[49m\u001b[43mreturn_references\u001b[49m\u001b[38;5;241;43m=\u001b[39;49m\u001b[38;5;28;43mself\u001b[39;49m\u001b[38;5;241;43m.\u001b[39;49m\u001b[43m__inputs\u001b[49m\u001b[38;5;241;43m.\u001b[39;49m\u001b[43mreturn_references\u001b[49m\u001b[43m,\u001b[49m\n\u001b[1;32m     66\u001b[0m \u001b[43m        \u001b[49m\u001b[43m)\u001b[49m\n\u001b[1;32m     67\u001b[0m         \u001b[38;5;28mself\u001b[39m\u001b[38;5;241m.\u001b[39m__iter_object_cache \u001b[38;5;241m=\u001b[39m res\u001b[38;5;241m.\u001b[39mobjects  \u001b[38;5;66;03m# type: ignore\u001b[39;00m\n\u001b[1;32m     68\u001b[0m         \u001b[38;5;28;01mif\u001b[39;00m \u001b[38;5;28mlen\u001b[39m(\u001b[38;5;28mself\u001b[39m\u001b[38;5;241m.\u001b[39m__iter_object_cache) \u001b[38;5;241m==\u001b[39m \u001b[38;5;241m0\u001b[39m:\n",
      "File \u001b[0;32m~/repos/book/data-pipelines-with-airflow-2nd-ed/.venv/lib/python3.10/site-packages/weaviate/syncify.py:23\u001b[0m, in \u001b[0;36mconvert.<locals>.sync_method\u001b[0;34m(self, __new_name, *args, **kwargs)\u001b[0m\n\u001b[1;32m     20\u001b[0m \u001b[38;5;129m@wraps\u001b[39m(method)  \u001b[38;5;66;03m# type: ignore\u001b[39;00m\n\u001b[1;32m     21\u001b[0m \u001b[38;5;28;01mdef\u001b[39;00m \u001b[38;5;21msync_method\u001b[39m(\u001b[38;5;28mself\u001b[39m, \u001b[38;5;241m*\u001b[39margs, __new_name\u001b[38;5;241m=\u001b[39mnew_name, \u001b[38;5;241m*\u001b[39m\u001b[38;5;241m*\u001b[39mkwargs):\n\u001b[1;32m     22\u001b[0m     async_func \u001b[38;5;241m=\u001b[39m \u001b[38;5;28mgetattr\u001b[39m(\u001b[38;5;28mcls\u001b[39m, __new_name)\n\u001b[0;32m---> 23\u001b[0m     \u001b[38;5;28;01mreturn\u001b[39;00m \u001b[43m_EventLoopSingleton\u001b[49m\u001b[38;5;241;43m.\u001b[39;49m\u001b[43mget_instance\u001b[49m\u001b[43m(\u001b[49m\u001b[43m)\u001b[49m\u001b[38;5;241;43m.\u001b[39;49m\u001b[43mrun_until_complete\u001b[49m\u001b[43m(\u001b[49m\n\u001b[1;32m     24\u001b[0m \u001b[43m        \u001b[49m\u001b[43masync_func\u001b[49m\u001b[43m,\u001b[49m\u001b[43m \u001b[49m\u001b[38;5;28;43mself\u001b[39;49m\u001b[43m,\u001b[49m\u001b[43m \u001b[49m\u001b[38;5;241;43m*\u001b[39;49m\u001b[43margs\u001b[49m\u001b[43m,\u001b[49m\u001b[43m \u001b[49m\u001b[38;5;241;43m*\u001b[39;49m\u001b[38;5;241;43m*\u001b[39;49m\u001b[43mkwargs\u001b[49m\n\u001b[1;32m     25\u001b[0m \u001b[43m    \u001b[49m\u001b[43m)\u001b[49m\n",
      "File \u001b[0;32m~/repos/book/data-pipelines-with-airflow-2nd-ed/.venv/lib/python3.10/site-packages/weaviate/event_loop.py:40\u001b[0m, in \u001b[0;36m_EventLoop.run_until_complete\u001b[0;34m(self, f, *args, **kwargs)\u001b[0m\n\u001b[1;32m     38\u001b[0m     \u001b[38;5;28;01mraise\u001b[39;00m WeaviateClosedClientError()\n\u001b[1;32m     39\u001b[0m fut \u001b[38;5;241m=\u001b[39m asyncio\u001b[38;5;241m.\u001b[39mrun_coroutine_threadsafe(f(\u001b[38;5;241m*\u001b[39margs, \u001b[38;5;241m*\u001b[39m\u001b[38;5;241m*\u001b[39mkwargs), \u001b[38;5;28mself\u001b[39m\u001b[38;5;241m.\u001b[39mloop)\n\u001b[0;32m---> 40\u001b[0m \u001b[38;5;28;01mreturn\u001b[39;00m \u001b[43mfut\u001b[49m\u001b[38;5;241;43m.\u001b[39;49m\u001b[43mresult\u001b[49m\u001b[43m(\u001b[49m\u001b[43m)\u001b[49m\n",
      "File \u001b[0;32m/usr/lib/python3.10/concurrent/futures/_base.py:458\u001b[0m, in \u001b[0;36mFuture.result\u001b[0;34m(self, timeout)\u001b[0m\n\u001b[1;32m    456\u001b[0m     \u001b[38;5;28;01mraise\u001b[39;00m CancelledError()\n\u001b[1;32m    457\u001b[0m \u001b[38;5;28;01melif\u001b[39;00m \u001b[38;5;28mself\u001b[39m\u001b[38;5;241m.\u001b[39m_state \u001b[38;5;241m==\u001b[39m FINISHED:\n\u001b[0;32m--> 458\u001b[0m     \u001b[38;5;28;01mreturn\u001b[39;00m \u001b[38;5;28;43mself\u001b[39;49m\u001b[38;5;241;43m.\u001b[39;49m\u001b[43m__get_result\u001b[49m\u001b[43m(\u001b[49m\u001b[43m)\u001b[49m\n\u001b[1;32m    459\u001b[0m \u001b[38;5;28;01melse\u001b[39;00m:\n\u001b[1;32m    460\u001b[0m     \u001b[38;5;28;01mraise\u001b[39;00m \u001b[38;5;167;01mTimeoutError\u001b[39;00m()\n",
      "File \u001b[0;32m/usr/lib/python3.10/concurrent/futures/_base.py:403\u001b[0m, in \u001b[0;36mFuture.__get_result\u001b[0;34m(self)\u001b[0m\n\u001b[1;32m    401\u001b[0m \u001b[38;5;28;01mif\u001b[39;00m \u001b[38;5;28mself\u001b[39m\u001b[38;5;241m.\u001b[39m_exception:\n\u001b[1;32m    402\u001b[0m     \u001b[38;5;28;01mtry\u001b[39;00m:\n\u001b[0;32m--> 403\u001b[0m         \u001b[38;5;28;01mraise\u001b[39;00m \u001b[38;5;28mself\u001b[39m\u001b[38;5;241m.\u001b[39m_exception\n\u001b[1;32m    404\u001b[0m     \u001b[38;5;28;01mfinally\u001b[39;00m:\n\u001b[1;32m    405\u001b[0m         \u001b[38;5;66;03m# Break a reference cycle with the exception in self._exception\u001b[39;00m\n\u001b[1;32m    406\u001b[0m         \u001b[38;5;28mself\u001b[39m \u001b[38;5;241m=\u001b[39m \u001b[38;5;28;01mNone\u001b[39;00m\n",
      "File \u001b[0;32m~/repos/book/data-pipelines-with-airflow-2nd-ed/.venv/lib/python3.10/site-packages/weaviate/collections/queries/fetch_objects/query.py:65\u001b[0m, in \u001b[0;36m_FetchObjectsQueryAsync.fetch_objects\u001b[0;34m(self, limit, offset, after, filters, sort, include_vector, return_metadata, return_properties, return_references)\u001b[0m\n\u001b[1;32m     18\u001b[0m \u001b[38;5;28;01masync\u001b[39;00m \u001b[38;5;28;01mdef\u001b[39;00m \u001b[38;5;21mfetch_objects\u001b[39m(\n\u001b[1;32m     19\u001b[0m     \u001b[38;5;28mself\u001b[39m,\n\u001b[1;32m     20\u001b[0m     \u001b[38;5;241m*\u001b[39m,\n\u001b[0;32m   (...)\u001b[0m\n\u001b[1;32m     29\u001b[0m     return_references: Optional[ReturnReferences[TReferences]] \u001b[38;5;241m=\u001b[39m \u001b[38;5;28;01mNone\u001b[39;00m\n\u001b[1;32m     30\u001b[0m ) \u001b[38;5;241m-\u001b[39m\u001b[38;5;241m>\u001b[39m QueryReturnType[Properties, References, TProperties, TReferences]:\n\u001b[1;32m     31\u001b[0m \u001b[38;5;250m    \u001b[39m\u001b[38;5;124;03m\"\"\"Retrieve the objects in this collection without any search.\u001b[39;00m\n\u001b[1;32m     32\u001b[0m \n\u001b[1;32m     33\u001b[0m \u001b[38;5;124;03m    Arguments:\u001b[39;00m\n\u001b[0;32m   (...)\u001b[0m\n\u001b[1;32m     63\u001b[0m \u001b[38;5;124;03m            If the network connection to Weaviate fails.\u001b[39;00m\n\u001b[1;32m     64\u001b[0m \u001b[38;5;124;03m    \"\"\"\u001b[39;00m\n\u001b[0;32m---> 65\u001b[0m     res \u001b[38;5;241m=\u001b[39m \u001b[38;5;28;01mawait\u001b[39;00m \u001b[38;5;28mself\u001b[39m\u001b[38;5;241m.\u001b[39m_query\u001b[38;5;241m.\u001b[39mget(\n\u001b[1;32m     66\u001b[0m         limit\u001b[38;5;241m=\u001b[39mlimit,\n\u001b[1;32m     67\u001b[0m         offset\u001b[38;5;241m=\u001b[39moffset,\n\u001b[1;32m     68\u001b[0m         after\u001b[38;5;241m=\u001b[39mafter,\n\u001b[1;32m     69\u001b[0m         filters\u001b[38;5;241m=\u001b[39mfilters,\n\u001b[1;32m     70\u001b[0m         sort\u001b[38;5;241m=\u001b[39msort,\n\u001b[1;32m     71\u001b[0m         return_metadata\u001b[38;5;241m=\u001b[39m\u001b[38;5;28mself\u001b[39m\u001b[38;5;241m.\u001b[39m_parse_return_metadata(return_metadata, include_vector),\n\u001b[1;32m     72\u001b[0m         return_properties\u001b[38;5;241m=\u001b[39m\u001b[38;5;28mself\u001b[39m\u001b[38;5;241m.\u001b[39m_parse_return_properties(return_properties),\n\u001b[1;32m     73\u001b[0m         return_references\u001b[38;5;241m=\u001b[39m\u001b[38;5;28mself\u001b[39m\u001b[38;5;241m.\u001b[39m_parse_return_references(return_references),\n\u001b[1;32m     74\u001b[0m     )\n\u001b[1;32m     75\u001b[0m     \u001b[38;5;28;01mreturn\u001b[39;00m \u001b[38;5;28mself\u001b[39m\u001b[38;5;241m.\u001b[39m_result_to_query_return(\n\u001b[1;32m     76\u001b[0m         res,\n\u001b[1;32m     77\u001b[0m         _QueryOptions\u001b[38;5;241m.\u001b[39mfrom_input(\n\u001b[0;32m   (...)\u001b[0m\n\u001b[1;32m     85\u001b[0m         return_references,\n\u001b[1;32m     86\u001b[0m     )\n",
      "File \u001b[0;32m~/repos/book/data-pipelines-with-airflow-2nd-ed/.venv/lib/python3.10/site-packages/weaviate/collections/grpc/query.py:805\u001b[0m, in \u001b[0;36m_QueryGRPC.__call\u001b[0;34m(self, request)\u001b[0m\n\u001b[1;32m    803\u001b[0m     \u001b[38;5;28;01mreturn\u001b[39;00m cast(search_get_pb2\u001b[38;5;241m.\u001b[39mSearchReply, res)\n\u001b[1;32m    804\u001b[0m \u001b[38;5;28;01mexcept\u001b[39;00m AioRpcError \u001b[38;5;28;01mas\u001b[39;00m e:\n\u001b[0;32m--> 805\u001b[0m     \u001b[38;5;28;01mraise\u001b[39;00m WeaviateQueryError(\u001b[38;5;28mstr\u001b[39m(e), \u001b[38;5;124m\"\u001b[39m\u001b[38;5;124mGRPC search\u001b[39m\u001b[38;5;124m\"\u001b[39m)\n",
      "\u001b[0;31mWeaviateQueryError\u001b[0m: Query call with protocol GRPC search failed with message <AioRpcError of RPC that terminated with:\n\tstatus = StatusCode.UNKNOWN\n\tdetails = \"could not find class Recipes in schema\"\n\tdebug_error_string = \"UNKNOWN:Error received from peer  {grpc_message:\"could not find class Recipes in schema\", grpc_status:2, created_time:\"2024-10-25T16:31:20.36369135+02:00\"}\"\n>."
     ]
    }
   ],
   "source": [
    "for item in collection.iterator():\n",
    "    print(item.uuid, item.properties)"
   ]
  },
  {
   "cell_type": "code",
   "execution_count": 12,
   "metadata": {},
   "outputs": [],
   "source": [
    "client.collections.delete(COLLECTION_NAME)"
   ]
  }
 ],
 "metadata": {
  "kernelspec": {
   "display_name": ".venv",
   "language": "python",
   "name": "python3"
  },
  "language_info": {
   "codemirror_mode": {
    "name": "ipython",
    "version": 3
   },
   "file_extension": ".py",
   "mimetype": "text/x-python",
   "name": "python",
   "nbconvert_exporter": "python",
   "pygments_lexer": "ipython3",
   "version": "3.10.12"
  }
 },
 "nbformat": 4,
 "nbformat_minor": 2
}
