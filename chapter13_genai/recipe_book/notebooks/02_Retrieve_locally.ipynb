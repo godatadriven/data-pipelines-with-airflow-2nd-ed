{
 "cells": [
  {
   "cell_type": "code",
   "execution_count": 5,
   "metadata": {},
   "outputs": [
    {
     "name": "stdout",
     "output_type": "stream",
     "text": [
      "True\n"
     ]
    }
   ],
   "source": [
    "import weaviate\n",
    "from weaviate.config import AdditionalConfig\n",
    "from weaviate.classes.config import Configure\n",
    "\n",
    "import json\n",
    "import pandas as pd\n",
    "import numpy as np\n",
    "import os\n",
    "import dotenv\n",
    "\n",
    "dotenv.load_dotenv()\n",
    "\n",
    "AZURE_OPENAI_API_KEY = os.getenv('AZURE_OPENAI_API_KEY')\n",
    "AZURE_OPENAI_ENDPOINT = os.getenv('AZURE_OPENAI_ENDPOINT')\n",
    "AZURE_OPENAI_API_VERSION = os.getenv('OPENAI_API_VERSION')\n",
    "AZURE_OPENAI_RESOURCE_NAME = os.getenv('AZURE_OPENAI_RESOURCE_NAME')\n",
    "\n",
    "\n",
    "client = weaviate.connect_to_local(\n",
    "    port=8083,\n",
    "    grpc_port=50051,\n",
    "    headers = {\n",
    "        \"X-Azure-Api-Key\": AZURE_OPENAI_API_KEY,\n",
    "    },\n",
    ")\n",
    "\n",
    "print(client.is_ready())\n"
   ]
  },
  {
   "cell_type": "code",
   "execution_count": 3,
   "metadata": {},
   "outputs": [],
   "source": [
    "COLLECTION_NAME = \"recipes\"\n",
    "collection = client.collections.get(name=COLLECTION_NAME)"
   ]
  },
  {
   "cell_type": "code",
   "execution_count": null,
   "metadata": {},
   "outputs": [],
   "source": [
    "COLLECTION_NAME = \"recipes\"\n",
    "collection = client.collections.get(name=COLLECTION_NAME)"
   ]
  },
  {
   "cell_type": "code",
   "execution_count": null,
   "metadata": {},
   "outputs": [],
   "source": []
  },
  {
   "cell_type": "code",
   "execution_count": 7,
   "metadata": {},
   "outputs": [],
   "source": []
  },
  {
   "cell_type": "code",
   "execution_count": null,
   "metadata": {},
   "outputs": [],
   "source": []
  },
  {
   "cell_type": "code",
   "execution_count": null,
   "metadata": {},
   "outputs": [],
   "source": []
  },
  {
   "cell_type": "code",
   "execution_count": 14,
   "metadata": {},
   "outputs": [
    {
     "name": "stdout",
     "output_type": "stream",
     "text": [
      "95e8d48e-09e7-5323-ad7c-24ef353a8502 {'filename': 'bowl-de-pollo-con-verduras.txt', 'chunk_sha': UUID('95e8d48e-09e7-5323-ad7c-24ef353a8502'), 'chunk': 'Bowl de pollo con verduras   Ingredientes  2 cucharadas de aceite de oliva 1 cucharadita de comino 1 cucharadita de ajo en polvo 1/4 tazas de albahaca, finamente picada sal al gusto pimienta al gusto 4 pechugas de pollo, sin piel y sin hueso 1/2 tazas de vino blanco 1/2 tazas de caldo de pollo 2 tazas de Constellation® 2 tazas de champiñón, en mitades suficiente de agua sal al gusto 2 tazas de ñoquis hoja de albahaca al gusto   Preparación En un bowl, combina el aceite de oliva, el comino, el ajo en polvo, la albahaca, la sal y la pimienta. Agrega el pollo y cubre con la mezcla. Deja reposar en refrigeración por 1 hora. Corta los Constellation® a la mitad y reserva. Cocina el pollo en una sartén por 5 minutos de cada lado. Cuando esté ligeramente dorado, vierte el vino blanco, el caldo de pollo, los Constellation® y el champiñón. Tapa y cocina por 10 minutos más o hasta que todo esté bien cocido. Reserva. Para los ñoquis: cocina los ñoquis en una olla con agua hirviendo con sal por 4 minutos. Cuela y reserva. Sirve el pollo en tiras, los Constellation®, los champiñones y los ñoquis en un bowl. Decora con albahaca fresca.', 'document_sha': UUID('ecd36e2d-b4e1-5570-b654-9b3fe6bda7f4')}\n",
      "c116300d-79f9-5d9d-9f2b-138d5903c068 {'filename': 'pescado-poblano-con-berros-y-ejotes.txt', 'chunk_sha': UUID('c116300d-79f9-5d9d-9f2b-138d5903c068'), 'chunk': \"Pescado Poblano con Berros y Ejotes  Ingredientes  Seleccionar todos los ingredientes 2 pizcas de sal 2 filetes de pescado 4 cucharadas de aceite 2 tazas de papa, cocida, pelada y cortada en cubos medianos. 2 tazas de ejote 3 cucharadas de aceite de oliva 2 pizcas de sal 1 cucharada de mantequilla 1 lata de crema de chile poblano, Campbell's ® 1 taza de berro Preparación Precalienta el horno a 190°c Unta con sal los filetes, calienta el aceite en un sartén a fuego medio y fríe los filetes por 2 minutos. Retira del fuego y poner en una charola para horno. Mezcla las papas con los ejotes, aceite de oliva, orégano, sal. Extiende en la misma charola donde están los filetes y mete al horno por 10 minutos. Calienta la mantequilla a fuego bajo en una ollita pequeña, agrega la crema de chile poblano más una lata de agua y cocina por 5 minutos para espesar un poco. Saca del horno la charola. Sirve unas cucharadas de crema en un plato hondo, sobre esta los vegetales, coloca el filete sobre los vegetales y sobre el filete un poco berros.\", 'document_sha': UUID('eca5e37e-75e8-5bb0-bfd6-4105001974d3')}\n"
     ]
    }
   ],
   "source": [
    "for item in collection.iterator():\n",
    "    print(item.uuid, item.properties)"
   ]
  },
  {
   "cell_type": "code",
   "execution_count": 12,
   "metadata": {},
   "outputs": [],
   "source": [
    "client.collections.delete(name=COLLECTION_NAME)"
   ]
  },
  {
   "cell_type": "code",
   "execution_count": 13,
   "metadata": {},
   "outputs": [
    {
     "data": {
      "text/plain": [
       "['banana2', 'azurerecipes', 'recipes', 'recipe', 'test_collection']"
      ]
     },
     "execution_count": 13,
     "metadata": {},
     "output_type": "execute_result"
    }
   ],
   "source": [
    "existing_collections = [item.lower() for item in list(client.collections.list_all().keys())]\n",
    "existing_collections\n"
   ]
  },
  {
   "cell_type": "code",
   "execution_count": null,
   "metadata": {},
   "outputs": [],
   "source": []
  },
  {
   "cell_type": "code",
   "execution_count": null,
   "metadata": {},
   "outputs": [],
   "source": []
  },
  {
   "cell_type": "code",
   "execution_count": null,
   "metadata": {},
   "outputs": [],
   "source": []
  },
  {
   "cell_type": "code",
   "execution_count": null,
   "metadata": {},
   "outputs": [
    {
     "data": {
      "text/plain": [
       "{'conn_type': 'weaviate',\n",
       " 'host': 'http://weaviate:/${WEAVIATE_HOST_PORT_REST}',\n",
       " 'port': '${WEAVIATE_HOST_PORT_REST}',\n",
       " 'extra': {'additional_headers': {'X-Openai-Api-Key': '${AZURE_OPEN_API_KEY}',\n",
       "   'X-Openai-Organization': '${AZURE_OPEN_AI_ORGANIZATION}',\n",
       "   'X-Openai-Base-Url': '${AZURE_OPEN_AI_BASE_URL}'},\n",
       "  'grpc_host': 'weaviate:${WEAVIATE_HOST_PORT_GRPC}',\n",
       "  'grpc_port': '${WEAVIATE_HOST_PORT_GRPC}'}}"
      ]
     },
     "metadata": {},
     "output_type": "display_data"
    }
   ],
   "source": [
    "\n",
    "a = '{ \"conn_type\": \"weaviate\", \"host\": \"http://weaviate:/${WEAVIATE_HOST_PORT_REST}\", \"port\": \"${WEAVIATE_HOST_PORT_REST}\", \"extra\": {\"additional_headers\" : { \"X-Openai-Api-Key\": \"${AZURE_OPEN_API_KEY}\", \"X-Openai-Organization\": \"${AZURE_OPEN_AI_ORGANIZATION}\", \"X-Openai-Base-Url\": \"${AZURE_OPEN_AI_BASE_URL}\"}, \"grpc_host\": \"weaviate:${WEAVIATE_HOST_PORT_GRPC}\", \"grpc_port\": \"${WEAVIATE_HOST_PORT_GRPC}\"}}'\n",
    "\n",
    "json.loads(a)"
   ]
  },
  {
   "cell_type": "code",
   "execution_count": null,
   "metadata": {},
   "outputs": [],
   "source": []
  },
  {
   "cell_type": "code",
   "execution_count": null,
   "metadata": {},
   "outputs": [],
   "source": []
  },
  {
   "cell_type": "code",
   "execution_count": null,
   "metadata": {},
   "outputs": [],
   "source": []
  },
  {
   "cell_type": "code",
   "execution_count": null,
   "metadata": {},
   "outputs": [],
   "source": []
  }
 ],
 "metadata": {
  "kernelspec": {
   "display_name": ".venv",
   "language": "python",
   "name": "python3"
  },
  "language_info": {
   "codemirror_mode": {
    "name": "ipython",
    "version": 3
   },
   "file_extension": ".py",
   "mimetype": "text/x-python",
   "name": "python",
   "nbconvert_exporter": "python",
   "pygments_lexer": "ipython3",
   "version": "3.10.12"
  }
 },
 "nbformat": 4,
 "nbformat_minor": 2
}
