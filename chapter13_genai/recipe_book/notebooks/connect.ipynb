{
 "cells": [
  {
   "cell_type": "code",
   "execution_count": 2,
   "metadata": {},
   "outputs": [],
   "source": [
    "import weaviate\n",
    "\n",
    "client = weaviate.Client(\"http://localhost:8085\")\n",
    "\n",
    "class_obj = {\n",
    "    \"class\": \"Article3\",\n",
    "    \"description\": \"A written text, for example a news article or blog post\",\n",
    "    \"properties\": [\n",
    "        {\n",
    "            \"dataType\": [\"text\"],\n",
    "            \"description\": \"Title of the article\",\n",
    "            \"name\": \"title\",\n",
    "        },\n",
    "        {\n",
    "            \"dataType\": [\"text\"],\n",
    "            \"description\": \"The content of the article\",\n",
    "            \"name\": \"content\"\n",
    "        }\n",
    "    ]\n",
    "}\n",
    "\n",
    "client.schema.create_class(class_obj)"
   ]
  },
  {
   "cell_type": "code",
   "execution_count": null,
   "metadata": {},
   "outputs": [],
   "source": []
  },
  {
   "cell_type": "code",
   "execution_count": 13,
   "metadata": {},
   "outputs": [
    {
     "name": "stdout",
     "output_type": "stream",
     "text": [
      "{'class': 'Article', 'description': 'A written text, for example a news article or blog post', 'invertedIndexConfig': {'bm25': {'b': 0.75, 'k1': 1.2}, 'cleanupIntervalSeconds': 60, 'stopwords': {'additions': None, 'preset': 'en', 'removals': None}}, 'moduleConfig': {'text2vec-transformers': {'poolingStrategy': 'masked_mean', 'vectorizeClassName': True}}, 'multiTenancyConfig': {'enabled': False}, 'properties': [{'dataType': ['text'], 'description': 'Title of the article', 'indexFilterable': True, 'indexSearchable': True, 'moduleConfig': {'text2vec-transformers': {'skip': False, 'vectorizePropertyName': False}}, 'name': 'title', 'tokenization': 'word'}, {'dataType': ['text'], 'description': 'The content of the article', 'indexFilterable': True, 'indexSearchable': True, 'moduleConfig': {'text2vec-transformers': {'skip': False, 'vectorizePropertyName': False}}, 'name': 'content', 'tokenization': 'word'}], 'replicationConfig': {'factor': 1}, 'shardingConfig': {'virtualPerPhysical': 128, 'desiredCount': 1, 'actualCount': 1, 'desiredVirtualCount': 128, 'actualVirtualCount': 128, 'key': '_id', 'strategy': 'hash', 'function': 'murmur3'}, 'vectorIndexConfig': {'skip': False, 'cleanupIntervalSeconds': 300, 'maxConnections': 64, 'efConstruction': 128, 'ef': -1, 'dynamicEfMin': 100, 'dynamicEfMax': 500, 'dynamicEfFactor': 8, 'vectorCacheMaxObjects': 1000000000000, 'flatSearchCutoff': 40000, 'distance': 'cosine', 'pq': {'enabled': False, 'bitCompression': False, 'segments': 0, 'centroids': 256, 'trainingLimit': 100000, 'encoder': {'type': 'kmeans', 'distribution': 'log-normal'}}}, 'vectorIndexType': 'hnsw', 'vectorizer': 'text2vec-transformers'}\n"
     ]
    }
   ],
   "source": [
    "import weaviate\n",
    "from langchain.vectorstores.weaviate import Weaviate as WeaviateStore\n",
    "\n",
    "\n",
    "schema = client.schema.get(\"Article\")\n",
    "print(schema)"
   ]
  },
  {
   "cell_type": "code",
   "execution_count": 11,
   "metadata": {},
   "outputs": [
    {
     "name": "stdout",
     "output_type": "stream",
     "text": [
      "{'classes': []}\n"
     ]
    }
   ],
   "source": [
    "import weaviate\n",
    "\n",
    "\n",
    "schema = client.schema.get()\n",
    "print(schema)"
   ]
  },
  {
   "cell_type": "code",
   "execution_count": 29,
   "metadata": {},
   "outputs": [],
   "source": [
    "import weaviate\n",
    "from langchain.vectorstores.weaviate import Weaviate as WeaviateStore\n",
    "from langchain.chains import RetrievalQA\n",
    "\n"
   ]
  },
  {
   "cell_type": "code",
   "execution_count": 28,
   "metadata": {},
   "outputs": [],
   "source": [
    "\n",
    "\n",
    "client = weaviate.Client(\"http://localhost:8085\")\n",
    "vectorstore = WeaviateStore(client, \"Ismael2\", \"content\")\n",
    "\n",
    "    "
   ]
  },
  {
   "cell_type": "code",
   "execution_count": null,
   "metadata": {},
   "outputs": [],
   "source": [
    "\n",
    "qa = RetrievalQA.from_chain_type(llm=client, chain_type=\"map_reduce\", retriever=vectorstore.as_retriever())\n"
   ]
  },
  {
   "cell_type": "code",
   "execution_count": null,
   "metadata": {},
   "outputs": [],
   "source": []
  },
  {
   "cell_type": "code",
   "execution_count": 22,
   "metadata": {},
   "outputs": [],
   "source": [
    "response = (\n",
    "    client.query\n",
    "    .get(\"Question\", [\"question\", \"answer\", \"category\"])\n",
    "    .with_near_text({\"concepts\": [\"dbt\"]})\n",
    "    .with_limit(2)\n",
    "    .do()\n",
    ")\n"
   ]
  },
  {
   "cell_type": "code",
   "execution_count": 23,
   "metadata": {},
   "outputs": [
    {
     "data": {
      "text/plain": [
       "{'errors': [{'locations': [{'column': 6, 'line': 1}],\n",
       "   'message': 'Cannot query field \"Question\" on type \"GetObjectsObj\".',\n",
       "   'path': None}]}"
      ]
     },
     "execution_count": 23,
     "metadata": {},
     "output_type": "execute_result"
    }
   ],
   "source": [
    "response"
   ]
  },
  {
   "cell_type": "code",
   "execution_count": 16,
   "metadata": {},
   "outputs": [
    {
     "ename": "AttributeError",
     "evalue": "'Client' object has no attribute 'query_without_vector'",
     "output_type": "error",
     "traceback": [
      "\u001b[0;31m---------------------------------------------------------------------------\u001b[0m",
      "\u001b[0;31mAttributeError\u001b[0m                            Traceback (most recent call last)",
      "\u001b[1;32m/Users/icabral/repos/VectorVault/notebooks/connect.ipynb Cell 6\u001b[0m line \u001b[0;36m2\n\u001b[1;32m      <a href='vscode-notebook-cell:/Users/icabral/repos/VectorVault/notebooks/connect.ipynb#W5sZmlsZQ%3D%3D?line=0'>1</a>\u001b[0m CLASS_NAME \u001b[39m=\u001b[39m \u001b[39m\"\u001b[39m\u001b[39mIsmael2\u001b[39m\u001b[39m\"\u001b[39m\n\u001b[0;32m----> <a href='vscode-notebook-cell:/Users/icabral/repos/VectorVault/notebooks/connect.ipynb#W5sZmlsZQ%3D%3D?line=1'>2</a>\u001b[0m movie \u001b[39m=\u001b[39m client\u001b[39m.\u001b[39;49mquery_without_vector(\n\u001b[1;32m      <a href='vscode-notebook-cell:/Users/icabral/repos/VectorVault/notebooks/connect.ipynb#W5sZmlsZQ%3D%3D?line=2'>3</a>\u001b[0m     \u001b[39m\"\u001b[39m\u001b[39m \u001b[39m\u001b[39m\"\u001b[39m\u001b[39m.\u001b[39mjoin([\u001b[39m\"\u001b[39m\u001b[39minnovation\u001b[39m\u001b[39m\"\u001b[39m, \u001b[39m\"\u001b[39m\u001b[39mfriends\u001b[39m\u001b[39m\"\u001b[39m]),\n\u001b[1;32m      <a href='vscode-notebook-cell:/Users/icabral/repos/VectorVault/notebooks/connect.ipynb#W5sZmlsZQ%3D%3D?line=3'>4</a>\u001b[0m     CLASS_NAME,\n\u001b[1;32m      <a href='vscode-notebook-cell:/Users/icabral/repos/VectorVault/notebooks/connect.ipynb#W5sZmlsZQ%3D%3D?line=4'>5</a>\u001b[0m     [\n\u001b[1;32m      <a href='vscode-notebook-cell:/Users/icabral/repos/VectorVault/notebooks/connect.ipynb#W5sZmlsZQ%3D%3D?line=5'>6</a>\u001b[0m         \u001b[39m\"\u001b[39m\u001b[39mtitle\u001b[39m\u001b[39m\"\u001b[39m,\n\u001b[1;32m      <a href='vscode-notebook-cell:/Users/icabral/repos/VectorVault/notebooks/connect.ipynb#W5sZmlsZQ%3D%3D?line=6'>7</a>\u001b[0m         \u001b[39m\"\u001b[39m\u001b[39myear\u001b[39m\u001b[39m\"\u001b[39m,\n\u001b[1;32m      <a href='vscode-notebook-cell:/Users/icabral/repos/VectorVault/notebooks/connect.ipynb#W5sZmlsZQ%3D%3D?line=7'>8</a>\u001b[0m         \u001b[39m\"\u001b[39m\u001b[39mgenre\u001b[39m\u001b[39m\"\u001b[39m,\n\u001b[1;32m      <a href='vscode-notebook-cell:/Users/icabral/repos/VectorVault/notebooks/connect.ipynb#W5sZmlsZQ%3D%3D?line=8'>9</a>\u001b[0m         \u001b[39m\"\u001b[39m\u001b[39mdescription\u001b[39m\u001b[39m\"\u001b[39m,\n\u001b[1;32m     <a href='vscode-notebook-cell:/Users/icabral/repos/VectorVault/notebooks/connect.ipynb#W5sZmlsZQ%3D%3D?line=9'>10</a>\u001b[0m     ],\n\u001b[1;32m     <a href='vscode-notebook-cell:/Users/icabral/repos/VectorVault/notebooks/connect.ipynb#W5sZmlsZQ%3D%3D?line=10'>11</a>\u001b[0m     limit\u001b[39m=\u001b[39m\u001b[39m1\u001b[39m,\n\u001b[1;32m     <a href='vscode-notebook-cell:/Users/icabral/repos/VectorVault/notebooks/connect.ipynb#W5sZmlsZQ%3D%3D?line=11'>12</a>\u001b[0m )\n",
      "\u001b[0;31mAttributeError\u001b[0m: 'Client' object has no attribute 'query_without_vector'"
     ]
    }
   ],
   "source": [
    "CLASS_NAME = \"Ismael2\"\n",
    "movie = client.query_without_vector(\n",
    "    \" \".join([\"innovation\", \"friends\"]),\n",
    "    CLASS_NAME,\n",
    "    [\n",
    "        \"title\",\n",
    "        \"year\",\n",
    "        \"genre\",\n",
    "        \"description\",\n",
    "    ],\n",
    "    limit=1,\n",
    ")"
   ]
  },
  {
   "cell_type": "code",
   "execution_count": 33,
   "metadata": {},
   "outputs": [],
   "source": [
    "from airflow.providers.weaviate.hooks.weaviate import WeaviateHook\n",
    "WEAVIATE_USER_CONN_ID = \"weaviate_default\"\n",
    "\n",
    "hook = WeaviateHook(WEAVIATE_USER_CONN_ID, \"http://localhost:8085\")"
   ]
  },
  {
   "cell_type": "code",
   "execution_count": 34,
   "metadata": {},
   "outputs": [
    {
     "name": "stdout",
     "output_type": "stream",
     "text": [
      "[\u001b[34m2023-11-22T19:51:17.312+0100\u001b[0m] {\u001b[34mbase.py:\u001b[0m73} INFO\u001b[0m - Using connection ID 'weaviate_default' for task execution.\u001b[0m\n"
     ]
    },
    {
     "ename": "MissingSchema",
     "evalue": "Invalid URL '/v1/.well-known/ready': No scheme supplied. Perhaps you meant https:///v1/.well-known/ready?",
     "output_type": "error",
     "traceback": [
      "\u001b[0;31m---------------------------------------------------------------------------\u001b[0m",
      "\u001b[0;31mMissingSchema\u001b[0m                             Traceback (most recent call last)",
      "\u001b[1;32m/Users/icabral/repos/VectorVault/notebooks/connect.ipynb Cell 13\u001b[0m line \u001b[0;36m6\n\u001b[1;32m      <a href='vscode-notebook-cell:/Users/icabral/repos/VectorVault/notebooks/connect.ipynb#X14sZmlsZQ%3D%3D?line=0'>1</a>\u001b[0m CLASS_NAME \u001b[39m=\u001b[39m \u001b[39m\"\u001b[39m\u001b[39mIsmael2\u001b[39m\u001b[39m\"\u001b[39m\n\u001b[1;32m      <a href='vscode-notebook-cell:/Users/icabral/repos/VectorVault/notebooks/connect.ipynb#X14sZmlsZQ%3D%3D?line=1'>2</a>\u001b[0m movie_concepts \u001b[39m=\u001b[39m [\u001b[39m\"\u001b[39m\u001b[39minnovation\u001b[39m\u001b[39m\"\u001b[39m, \u001b[39m\"\u001b[39m\u001b[39mfriends\u001b[39m\u001b[39m\"\u001b[39m]\n\u001b[0;32m----> <a href='vscode-notebook-cell:/Users/icabral/repos/VectorVault/notebooks/connect.ipynb#X14sZmlsZQ%3D%3D?line=5'>6</a>\u001b[0m movie \u001b[39m=\u001b[39m hook\u001b[39m.\u001b[39;49mquery_without_vector(\n\u001b[1;32m      <a href='vscode-notebook-cell:/Users/icabral/repos/VectorVault/notebooks/connect.ipynb#X14sZmlsZQ%3D%3D?line=6'>7</a>\u001b[0m     \u001b[39m\"\u001b[39;49m\u001b[39m \u001b[39;49m\u001b[39m\"\u001b[39;49m\u001b[39m.\u001b[39;49mjoin(movie_concepts),\n\u001b[1;32m      <a href='vscode-notebook-cell:/Users/icabral/repos/VectorVault/notebooks/connect.ipynb#X14sZmlsZQ%3D%3D?line=7'>8</a>\u001b[0m     CLASS_NAME,\n\u001b[1;32m      <a href='vscode-notebook-cell:/Users/icabral/repos/VectorVault/notebooks/connect.ipynb#X14sZmlsZQ%3D%3D?line=8'>9</a>\u001b[0m     [\n\u001b[1;32m     <a href='vscode-notebook-cell:/Users/icabral/repos/VectorVault/notebooks/connect.ipynb#X14sZmlsZQ%3D%3D?line=9'>10</a>\u001b[0m         \u001b[39m\"\u001b[39;49m\u001b[39mtitle\u001b[39;49m\u001b[39m\"\u001b[39;49m,\n\u001b[1;32m     <a href='vscode-notebook-cell:/Users/icabral/repos/VectorVault/notebooks/connect.ipynb#X14sZmlsZQ%3D%3D?line=10'>11</a>\u001b[0m         \u001b[39m\"\u001b[39;49m\u001b[39myear\u001b[39;49m\u001b[39m\"\u001b[39;49m,\n\u001b[1;32m     <a href='vscode-notebook-cell:/Users/icabral/repos/VectorVault/notebooks/connect.ipynb#X14sZmlsZQ%3D%3D?line=11'>12</a>\u001b[0m         \u001b[39m\"\u001b[39;49m\u001b[39mgenre\u001b[39;49m\u001b[39m\"\u001b[39;49m,\n\u001b[1;32m     <a href='vscode-notebook-cell:/Users/icabral/repos/VectorVault/notebooks/connect.ipynb#X14sZmlsZQ%3D%3D?line=12'>13</a>\u001b[0m         \u001b[39m\"\u001b[39;49m\u001b[39mdescription\u001b[39;49m\u001b[39m\"\u001b[39;49m,\n\u001b[1;32m     <a href='vscode-notebook-cell:/Users/icabral/repos/VectorVault/notebooks/connect.ipynb#X14sZmlsZQ%3D%3D?line=13'>14</a>\u001b[0m     ],\n\u001b[1;32m     <a href='vscode-notebook-cell:/Users/icabral/repos/VectorVault/notebooks/connect.ipynb#X14sZmlsZQ%3D%3D?line=14'>15</a>\u001b[0m     limit\u001b[39m=\u001b[39;49m\u001b[39m1\u001b[39;49m,\n\u001b[1;32m     <a href='vscode-notebook-cell:/Users/icabral/repos/VectorVault/notebooks/connect.ipynb#X14sZmlsZQ%3D%3D?line=15'>16</a>\u001b[0m )\n",
      "File \u001b[0;32m~/repos/VectorVault/.venv/lib/python3.11/site-packages/airflow/providers/weaviate/hooks/weaviate.py:170\u001b[0m, in \u001b[0;36mWeaviateHook.query_without_vector\u001b[0;34m(self, search_text, class_name, limit, *properties)\u001b[0m\n\u001b[1;32m    160\u001b[0m \u001b[39mdef\u001b[39;00m \u001b[39mquery_without_vector\u001b[39m(\n\u001b[1;32m    161\u001b[0m     \u001b[39mself\u001b[39m, search_text: \u001b[39mstr\u001b[39m, class_name: \u001b[39mstr\u001b[39m, \u001b[39m*\u001b[39mproperties: \u001b[39mlist\u001b[39m[\u001b[39mstr\u001b[39m], limit: \u001b[39mint\u001b[39m \u001b[39m=\u001b[39m \u001b[39m1\u001b[39m\n\u001b[1;32m    162\u001b[0m ) \u001b[39m-\u001b[39m\u001b[39m>\u001b[39m \u001b[39mdict\u001b[39m[\u001b[39mstr\u001b[39m, \u001b[39mdict\u001b[39m[Any, Any]]:\n\u001b[1;32m    163\u001b[0m \u001b[39m    \u001b[39m\u001b[39m\"\"\"\u001b[39;00m\n\u001b[1;32m    164\u001b[0m \u001b[39m    Query using near text.\u001b[39;00m\n\u001b[1;32m    165\u001b[0m \n\u001b[0;32m   (...)\u001b[0m\n\u001b[1;32m    168\u001b[0m \u001b[39m    API (OpenAI in this particular example) and uses that vector as the basis for a vector search.\u001b[39;00m\n\u001b[1;32m    169\u001b[0m \u001b[39m    \"\"\"\u001b[39;00m\n\u001b[0;32m--> 170\u001b[0m     client \u001b[39m=\u001b[39m \u001b[39mself\u001b[39;49m\u001b[39m.\u001b[39;49mget_client()\n\u001b[1;32m    171\u001b[0m     results: \u001b[39mdict\u001b[39m[\u001b[39mstr\u001b[39m, \u001b[39mdict\u001b[39m[Any, Any]] \u001b[39m=\u001b[39m (\n\u001b[1;32m    172\u001b[0m         client\u001b[39m.\u001b[39mquery\u001b[39m.\u001b[39mget(class_name, properties[\u001b[39m0\u001b[39m])\n\u001b[1;32m    173\u001b[0m         \u001b[39m.\u001b[39mwith_near_text({\u001b[39m\"\u001b[39m\u001b[39mconcepts\u001b[39m\u001b[39m\"\u001b[39m: [search_text]})\n\u001b[1;32m    174\u001b[0m         \u001b[39m.\u001b[39mwith_limit(limit)\n\u001b[1;32m    175\u001b[0m         \u001b[39m.\u001b[39mdo()\n\u001b[1;32m    176\u001b[0m     )\n\u001b[1;32m    177\u001b[0m     \u001b[39mreturn\u001b[39;00m results\n",
      "File \u001b[0;32m~/repos/VectorVault/.venv/lib/python3.11/site-packages/airflow/providers/weaviate/hooks/weaviate.py:82\u001b[0m, in \u001b[0;36mWeaviateHook.get_client\u001b[0;34m(self)\u001b[0m\n\u001b[1;32m     79\u001b[0m \u001b[39melse\u001b[39;00m:\n\u001b[1;32m     80\u001b[0m     auth_client_secret \u001b[39m=\u001b[39m weaviate\u001b[39m.\u001b[39mAuthApiKey(token)\n\u001b[0;32m---> 82\u001b[0m client \u001b[39m=\u001b[39m weaviate\u001b[39m.\u001b[39;49mClient(\n\u001b[1;32m     83\u001b[0m     url\u001b[39m=\u001b[39;49murl, auth_client_secret\u001b[39m=\u001b[39;49mauth_client_secret, additional_headers\u001b[39m=\u001b[39;49madditional_headers\n\u001b[1;32m     84\u001b[0m )\n\u001b[1;32m     86\u001b[0m \u001b[39mreturn\u001b[39;00m client\n",
      "File \u001b[0;32m~/repos/VectorVault/.venv/lib/python3.11/site-packages/weaviate/client.py:150\u001b[0m, in \u001b[0;36mClient.__init__\u001b[0;34m(self, url, auth_client_secret, timeout_config, proxies, trust_env, additional_headers, startup_period, embedded_options, additional_config)\u001b[0m\n\u001b[1;32m    147\u001b[0m config \u001b[39m=\u001b[39m Config() \u001b[39mif\u001b[39;00m additional_config \u001b[39mis\u001b[39;00m \u001b[39mNone\u001b[39;00m \u001b[39melse\u001b[39;00m additional_config\n\u001b[1;32m    148\u001b[0m url, embedded_db \u001b[39m=\u001b[39m \u001b[39mself\u001b[39m\u001b[39m.\u001b[39m__parse_url_and_embedded_db(url, embedded_options)\n\u001b[0;32m--> 150\u001b[0m \u001b[39mself\u001b[39m\u001b[39m.\u001b[39m_connection \u001b[39m=\u001b[39m Connection(\n\u001b[1;32m    151\u001b[0m     url\u001b[39m=\u001b[39;49murl,\n\u001b[1;32m    152\u001b[0m     auth_client_secret\u001b[39m=\u001b[39;49mauth_client_secret,\n\u001b[1;32m    153\u001b[0m     timeout_config\u001b[39m=\u001b[39;49m_get_valid_timeout_config(timeout_config),\n\u001b[1;32m    154\u001b[0m     proxies\u001b[39m=\u001b[39;49mproxies,\n\u001b[1;32m    155\u001b[0m     trust_env\u001b[39m=\u001b[39;49mtrust_env,\n\u001b[1;32m    156\u001b[0m     additional_headers\u001b[39m=\u001b[39;49madditional_headers,\n\u001b[1;32m    157\u001b[0m     startup_period\u001b[39m=\u001b[39;49mstartup_period,\n\u001b[1;32m    158\u001b[0m     embedded_db\u001b[39m=\u001b[39;49membedded_db,\n\u001b[1;32m    159\u001b[0m     grcp_port\u001b[39m=\u001b[39;49mconfig\u001b[39m.\u001b[39;49mgrpc_port_experimental,\n\u001b[1;32m    160\u001b[0m     connection_config\u001b[39m=\u001b[39;49mconfig\u001b[39m.\u001b[39;49mconnection_config,\n\u001b[1;32m    161\u001b[0m )\n\u001b[1;32m    162\u001b[0m \u001b[39mself\u001b[39m\u001b[39m.\u001b[39mclassification \u001b[39m=\u001b[39m Classification(\u001b[39mself\u001b[39m\u001b[39m.\u001b[39m_connection)\n\u001b[1;32m    163\u001b[0m \u001b[39mself\u001b[39m\u001b[39m.\u001b[39mschema \u001b[39m=\u001b[39m Schema(\u001b[39mself\u001b[39m\u001b[39m.\u001b[39m_connection)\n",
      "File \u001b[0;32m~/repos/VectorVault/.venv/lib/python3.11/site-packages/weaviate/connect/connection.py:166\u001b[0m, in \u001b[0;36mConnection.__init__\u001b[0;34m(self, url, auth_client_secret, timeout_config, proxies, trust_env, additional_headers, startup_period, connection_config, embedded_db, grcp_port)\u001b[0m\n\u001b[1;32m    164\u001b[0m \u001b[39mif\u001b[39;00m startup_period \u001b[39mis\u001b[39;00m \u001b[39mnot\u001b[39;00m \u001b[39mNone\u001b[39;00m:\n\u001b[1;32m    165\u001b[0m     _check_positive_num(startup_period, \u001b[39m\"\u001b[39m\u001b[39mstartup_period\u001b[39m\u001b[39m\"\u001b[39m, \u001b[39mint\u001b[39m, include_zero\u001b[39m=\u001b[39m\u001b[39mFalse\u001b[39;00m)\n\u001b[0;32m--> 166\u001b[0m     \u001b[39mself\u001b[39;49m\u001b[39m.\u001b[39;49mwait_for_weaviate(startup_period)\n\u001b[1;32m    168\u001b[0m \u001b[39mself\u001b[39m\u001b[39m.\u001b[39m_create_sessions(auth_client_secret)\n\u001b[1;32m    169\u001b[0m \u001b[39mself\u001b[39m\u001b[39m.\u001b[39m_add_adapter_to_session(connection_config)\n",
      "File \u001b[0;32m~/repos/VectorVault/.venv/lib/python3.11/site-packages/weaviate/connect/connection.py:644\u001b[0m, in \u001b[0;36mConnection.wait_for_weaviate\u001b[0;34m(self, startup_period)\u001b[0m\n\u001b[1;32m    642\u001b[0m \u001b[39mfor\u001b[39;00m _i \u001b[39min\u001b[39;00m \u001b[39mrange\u001b[39m(startup_period):\n\u001b[1;32m    643\u001b[0m     \u001b[39mtry\u001b[39;00m:\n\u001b[0;32m--> 644\u001b[0m         requests\u001b[39m.\u001b[39;49mget(ready_url, headers\u001b[39m=\u001b[39;49m\u001b[39mself\u001b[39;49m\u001b[39m.\u001b[39;49m_get_request_header())\u001b[39m.\u001b[39mraise_for_status()\n\u001b[1;32m    645\u001b[0m         \u001b[39mreturn\u001b[39;00m\n\u001b[1;32m    646\u001b[0m     \u001b[39mexcept\u001b[39;00m (RequestsHTTPError, RequestsConnectionError):\n",
      "File \u001b[0;32m~/repos/VectorVault/.venv/lib/python3.11/site-packages/requests/api.py:73\u001b[0m, in \u001b[0;36mget\u001b[0;34m(url, params, **kwargs)\u001b[0m\n\u001b[1;32m     62\u001b[0m \u001b[39mdef\u001b[39;00m \u001b[39mget\u001b[39m(url, params\u001b[39m=\u001b[39m\u001b[39mNone\u001b[39;00m, \u001b[39m*\u001b[39m\u001b[39m*\u001b[39mkwargs):\n\u001b[1;32m     63\u001b[0m \u001b[39m    \u001b[39m\u001b[39mr\u001b[39m\u001b[39m\"\"\"Sends a GET request.\u001b[39;00m\n\u001b[1;32m     64\u001b[0m \n\u001b[1;32m     65\u001b[0m \u001b[39m    :param url: URL for the new :class:`Request` object.\u001b[39;00m\n\u001b[0;32m   (...)\u001b[0m\n\u001b[1;32m     70\u001b[0m \u001b[39m    :rtype: requests.Response\u001b[39;00m\n\u001b[1;32m     71\u001b[0m \u001b[39m    \"\"\"\u001b[39;00m\n\u001b[0;32m---> 73\u001b[0m     \u001b[39mreturn\u001b[39;00m request(\u001b[39m\"\u001b[39;49m\u001b[39mget\u001b[39;49m\u001b[39m\"\u001b[39;49m, url, params\u001b[39m=\u001b[39;49mparams, \u001b[39m*\u001b[39;49m\u001b[39m*\u001b[39;49mkwargs)\n",
      "File \u001b[0;32m~/repos/VectorVault/.venv/lib/python3.11/site-packages/requests/api.py:59\u001b[0m, in \u001b[0;36mrequest\u001b[0;34m(method, url, **kwargs)\u001b[0m\n\u001b[1;32m     55\u001b[0m \u001b[39m# By using the 'with' statement we are sure the session is closed, thus we\u001b[39;00m\n\u001b[1;32m     56\u001b[0m \u001b[39m# avoid leaving sockets open which can trigger a ResourceWarning in some\u001b[39;00m\n\u001b[1;32m     57\u001b[0m \u001b[39m# cases, and look like a memory leak in others.\u001b[39;00m\n\u001b[1;32m     58\u001b[0m \u001b[39mwith\u001b[39;00m sessions\u001b[39m.\u001b[39mSession() \u001b[39mas\u001b[39;00m session:\n\u001b[0;32m---> 59\u001b[0m     \u001b[39mreturn\u001b[39;00m session\u001b[39m.\u001b[39;49mrequest(method\u001b[39m=\u001b[39;49mmethod, url\u001b[39m=\u001b[39;49murl, \u001b[39m*\u001b[39;49m\u001b[39m*\u001b[39;49mkwargs)\n",
      "File \u001b[0;32m~/repos/VectorVault/.venv/lib/python3.11/site-packages/requests/sessions.py:575\u001b[0m, in \u001b[0;36mSession.request\u001b[0;34m(self, method, url, params, data, headers, cookies, files, auth, timeout, allow_redirects, proxies, hooks, stream, verify, cert, json)\u001b[0m\n\u001b[1;32m    562\u001b[0m \u001b[39m# Create the Request.\u001b[39;00m\n\u001b[1;32m    563\u001b[0m req \u001b[39m=\u001b[39m Request(\n\u001b[1;32m    564\u001b[0m     method\u001b[39m=\u001b[39mmethod\u001b[39m.\u001b[39mupper(),\n\u001b[1;32m    565\u001b[0m     url\u001b[39m=\u001b[39murl,\n\u001b[0;32m   (...)\u001b[0m\n\u001b[1;32m    573\u001b[0m     hooks\u001b[39m=\u001b[39mhooks,\n\u001b[1;32m    574\u001b[0m )\n\u001b[0;32m--> 575\u001b[0m prep \u001b[39m=\u001b[39m \u001b[39mself\u001b[39;49m\u001b[39m.\u001b[39;49mprepare_request(req)\n\u001b[1;32m    577\u001b[0m proxies \u001b[39m=\u001b[39m proxies \u001b[39mor\u001b[39;00m {}\n\u001b[1;32m    579\u001b[0m settings \u001b[39m=\u001b[39m \u001b[39mself\u001b[39m\u001b[39m.\u001b[39mmerge_environment_settings(\n\u001b[1;32m    580\u001b[0m     prep\u001b[39m.\u001b[39murl, proxies, stream, verify, cert\n\u001b[1;32m    581\u001b[0m )\n",
      "File \u001b[0;32m~/repos/VectorVault/.venv/lib/python3.11/site-packages/requests/sessions.py:486\u001b[0m, in \u001b[0;36mSession.prepare_request\u001b[0;34m(self, request)\u001b[0m\n\u001b[1;32m    483\u001b[0m     auth \u001b[39m=\u001b[39m get_netrc_auth(request\u001b[39m.\u001b[39murl)\n\u001b[1;32m    485\u001b[0m p \u001b[39m=\u001b[39m PreparedRequest()\n\u001b[0;32m--> 486\u001b[0m p\u001b[39m.\u001b[39;49mprepare(\n\u001b[1;32m    487\u001b[0m     method\u001b[39m=\u001b[39;49mrequest\u001b[39m.\u001b[39;49mmethod\u001b[39m.\u001b[39;49mupper(),\n\u001b[1;32m    488\u001b[0m     url\u001b[39m=\u001b[39;49mrequest\u001b[39m.\u001b[39;49murl,\n\u001b[1;32m    489\u001b[0m     files\u001b[39m=\u001b[39;49mrequest\u001b[39m.\u001b[39;49mfiles,\n\u001b[1;32m    490\u001b[0m     data\u001b[39m=\u001b[39;49mrequest\u001b[39m.\u001b[39;49mdata,\n\u001b[1;32m    491\u001b[0m     json\u001b[39m=\u001b[39;49mrequest\u001b[39m.\u001b[39;49mjson,\n\u001b[1;32m    492\u001b[0m     headers\u001b[39m=\u001b[39;49mmerge_setting(\n\u001b[1;32m    493\u001b[0m         request\u001b[39m.\u001b[39;49mheaders, \u001b[39mself\u001b[39;49m\u001b[39m.\u001b[39;49mheaders, dict_class\u001b[39m=\u001b[39;49mCaseInsensitiveDict\n\u001b[1;32m    494\u001b[0m     ),\n\u001b[1;32m    495\u001b[0m     params\u001b[39m=\u001b[39;49mmerge_setting(request\u001b[39m.\u001b[39;49mparams, \u001b[39mself\u001b[39;49m\u001b[39m.\u001b[39;49mparams),\n\u001b[1;32m    496\u001b[0m     auth\u001b[39m=\u001b[39;49mmerge_setting(auth, \u001b[39mself\u001b[39;49m\u001b[39m.\u001b[39;49mauth),\n\u001b[1;32m    497\u001b[0m     cookies\u001b[39m=\u001b[39;49mmerged_cookies,\n\u001b[1;32m    498\u001b[0m     hooks\u001b[39m=\u001b[39;49mmerge_hooks(request\u001b[39m.\u001b[39;49mhooks, \u001b[39mself\u001b[39;49m\u001b[39m.\u001b[39;49mhooks),\n\u001b[1;32m    499\u001b[0m )\n\u001b[1;32m    500\u001b[0m \u001b[39mreturn\u001b[39;00m p\n",
      "File \u001b[0;32m~/repos/VectorVault/.venv/lib/python3.11/site-packages/requests/models.py:368\u001b[0m, in \u001b[0;36mPreparedRequest.prepare\u001b[0;34m(self, method, url, headers, files, data, params, auth, cookies, hooks, json)\u001b[0m\n\u001b[1;32m    365\u001b[0m \u001b[39m\u001b[39m\u001b[39m\"\"\"Prepares the entire request with the given parameters.\"\"\"\u001b[39;00m\n\u001b[1;32m    367\u001b[0m \u001b[39mself\u001b[39m\u001b[39m.\u001b[39mprepare_method(method)\n\u001b[0;32m--> 368\u001b[0m \u001b[39mself\u001b[39;49m\u001b[39m.\u001b[39;49mprepare_url(url, params)\n\u001b[1;32m    369\u001b[0m \u001b[39mself\u001b[39m\u001b[39m.\u001b[39mprepare_headers(headers)\n\u001b[1;32m    370\u001b[0m \u001b[39mself\u001b[39m\u001b[39m.\u001b[39mprepare_cookies(cookies)\n",
      "File \u001b[0;32m~/repos/VectorVault/.venv/lib/python3.11/site-packages/requests/models.py:439\u001b[0m, in \u001b[0;36mPreparedRequest.prepare_url\u001b[0;34m(self, url, params)\u001b[0m\n\u001b[1;32m    436\u001b[0m     \u001b[39mraise\u001b[39;00m InvalidURL(\u001b[39m*\u001b[39me\u001b[39m.\u001b[39margs)\n\u001b[1;32m    438\u001b[0m \u001b[39mif\u001b[39;00m \u001b[39mnot\u001b[39;00m scheme:\n\u001b[0;32m--> 439\u001b[0m     \u001b[39mraise\u001b[39;00m MissingSchema(\n\u001b[1;32m    440\u001b[0m         \u001b[39mf\u001b[39m\u001b[39m\"\u001b[39m\u001b[39mInvalid URL \u001b[39m\u001b[39m{\u001b[39;00murl\u001b[39m!r}\u001b[39;00m\u001b[39m: No scheme supplied. \u001b[39m\u001b[39m\"\u001b[39m\n\u001b[1;32m    441\u001b[0m         \u001b[39mf\u001b[39m\u001b[39m\"\u001b[39m\u001b[39mPerhaps you meant https://\u001b[39m\u001b[39m{\u001b[39;00murl\u001b[39m}\u001b[39;00m\u001b[39m?\u001b[39m\u001b[39m\"\u001b[39m\n\u001b[1;32m    442\u001b[0m     )\n\u001b[1;32m    444\u001b[0m \u001b[39mif\u001b[39;00m \u001b[39mnot\u001b[39;00m host:\n\u001b[1;32m    445\u001b[0m     \u001b[39mraise\u001b[39;00m InvalidURL(\u001b[39mf\u001b[39m\u001b[39m\"\u001b[39m\u001b[39mInvalid URL \u001b[39m\u001b[39m{\u001b[39;00murl\u001b[39m!r}\u001b[39;00m\u001b[39m: No host supplied\u001b[39m\u001b[39m\"\u001b[39m)\n",
      "\u001b[0;31mMissingSchema\u001b[0m: Invalid URL '/v1/.well-known/ready': No scheme supplied. Perhaps you meant https:///v1/.well-known/ready?"
     ]
    }
   ],
   "source": [
    "CLASS_NAME = \"Ismael2\"\n",
    "movie_concepts = [\"innovation\", \"friends\"]\n",
    "\n",
    "\n",
    "\n",
    "movie = hook.query_without_vector(\n",
    "    \" \".join(movie_concepts),\n",
    "    CLASS_NAME,\n",
    "    [\n",
    "        \"title\",\n",
    "        \"year\",\n",
    "        \"genre\",\n",
    "        \"description\",\n",
    "    ],\n",
    "    limit=1,\n",
    ")"
   ]
  },
  {
   "cell_type": "markdown",
   "metadata": {},
   "source": []
  },
  {
   "cell_type": "code",
   "execution_count": null,
   "metadata": {},
   "outputs": [],
   "source": []
  },
  {
   "cell_type": "code",
   "execution_count": null,
   "metadata": {},
   "outputs": [],
   "source": []
  },
  {
   "cell_type": "code",
   "execution_count": null,
   "metadata": {},
   "outputs": [],
   "source": []
  },
  {
   "cell_type": "code",
   "execution_count": null,
   "metadata": {},
   "outputs": [],
   "source": []
  },
  {
   "cell_type": "code",
   "execution_count": null,
   "metadata": {},
   "outputs": [],
   "source": []
  },
  {
   "cell_type": "code",
   "execution_count": 11,
   "metadata": {},
   "outputs": [],
   "source": [
    "import weaviate\n",
    "from langchain.chains import RetrievalQA\n",
    "from langchain.llms import OpenAI as langchain_openai\n",
    "from langchain.vectorstores.weaviate import Weaviate as WeaviateStore\n",
    "\n",
    "\n",
    "client = weaviate.Client(\"http://localhost:8085\",     additional_headers={\n",
    "                \"X-Azure-Api-Key\":OPEN_API_KEY,\n",
    "            \"X-OpenAI-BaseURL\":\"https://slackgpt-openai-fr.openai.azure.com/\"\n",
    "\n",
    "\n",
    "    })\n"
   ]
  },
  {
   "cell_type": "code",
   "execution_count": 28,
   "metadata": {},
   "outputs": [],
   "source": [
    "vectorstore = WeaviateStore(client, \"Ismael2\", \"content\")\n",
    "openai_client = langchain_openai(temperature=0.5, openai_api_key=OPEN_API_KEY)\n",
    "\n"
   ]
  },
  {
   "cell_type": "code",
   "execution_count": 29,
   "metadata": {},
   "outputs": [],
   "source": [
    "qa = RetrievalQA.from_chain_type(llm=openai_client, chain_type=\"map_reduce\", retriever=vectorstore.as_retriever())\n"
   ]
  },
  {
   "cell_type": "code",
   "execution_count": 31,
   "metadata": {},
   "outputs": [
    {
     "name": "stderr",
     "output_type": "stream",
     "text": [
      "/Users/icabral/repos/VectorVault/.venv/lib/python3.11/site-packages/langchain/llms/openai.py:460: PydanticDeprecatedSince20: The `dict` method is deprecated; use `model_dump` instead. Deprecated in Pydantic V2.0 to be removed in V3.0. See Pydantic V2 Migration Guide at https://errors.pydantic.dev/2.5/migration/\n",
      "  response = response.dict()\n",
      "/Users/icabral/repos/VectorVault/.venv/lib/python3.11/site-packages/pydantic/main.py:979: PydanticDeprecatedSince20: The `dict` method is deprecated; use `model_dump` instead. Deprecated in Pydantic V2.0 to be removed in V3.0. See Pydantic V2 Migration Guide at https://errors.pydantic.dev/2.5/migration/\n",
      "  warnings.warn('The `dict` method is deprecated; use `model_dump` instead.', DeprecationWarning)\n",
      "/Users/icabral/repos/VectorVault/.venv/lib/python3.11/site-packages/langchain/llms/openai.py:460: PydanticDeprecatedSince20: The `dict` method is deprecated; use `model_dump` instead. Deprecated in Pydantic V2.0 to be removed in V3.0. See Pydantic V2 Migration Guide at https://errors.pydantic.dev/2.5/migration/\n",
      "  response = response.dict()\n",
      "/Users/icabral/repos/VectorVault/.venv/lib/python3.11/site-packages/pydantic/main.py:979: PydanticDeprecatedSince20: The `dict` method is deprecated; use `model_dump` instead. Deprecated in Pydantic V2.0 to be removed in V3.0. See Pydantic V2 Migration Guide at https://errors.pydantic.dev/2.5/migration/\n",
      "  warnings.warn('The `dict` method is deprecated; use `model_dump` instead.', DeprecationWarning)\n"
     ]
    },
    {
     "data": {
      "text/plain": [
       "\" I don't know.\""
      ]
     },
     "execution_count": 31,
     "metadata": {},
     "output_type": "execute_result"
    }
   ],
   "source": [
    "langchain_question = \"what is DBT?\"\n",
    "result = qa.run(langchain_question)\n",
    "result"
   ]
  },
  {
   "cell_type": "code",
   "execution_count": null,
   "metadata": {},
   "outputs": [],
   "source": []
  },
  {
   "cell_type": "code",
   "execution_count": 21,
   "metadata": {},
   "outputs": [],
   "source": [
    "import pandas as pd\n",
    "df = pd.read_parquet(\"/Users/icabral/repos/VectorVault/dags/astro_blog.parquet\")"
   ]
  },
  {
   "cell_type": "code",
   "execution_count": 23,
   "metadata": {},
   "outputs": [
    {
     "name": "stdout",
     "output_type": "stream",
     "text": [
      "# Introducing Apache Airflow™ on Astro – an Azure Native ISV Service\n",
      "\n",
      "## Today, we’re thrilled to introduce a groundbreaking development that promises to revolutionize the way Apache Airflow and Azure users work. Astronomer has partnered with Microsoft to unveil Apache Airflow™ on Astro – an Azure Native ISV Service. This integration seamlessly embeds Apache Airflow into the Azure ecosystem and brings together the best of Apache Airflow and the power of Azure.\n",
      "The result? A unified environment that offers ease of use, scalability, and enterprise-grade security, resulting in mission-critical data pipelines that are both reliable and straightforward to manage.\n",
      "In this blog, we’ll discuss the practical benefits of integrating Astro with Azure, emphasizing key features. Additionally, we’ll provide a step-by-step guide to help you get started.\n",
      "Background\n",
      "Astro is a data orchestration product built around Apache Airflow™ and developed by the team here at Astronomer, which is a commercial steward of the Airflow project. We believe that Astro is the best place to run mission-critical data pipelines.\n",
      "Astro has allowed customers to run their Airflow environments on Azure since 2022 and we are pleased to announce that Astro is now available directly from the Azure Portal integrated as an Azure Native ISV Service. If you’re an Azure user and want to use Airflow then Astro is the best way to do it; you’ll even get $300 worth of credits to get started.\n",
      "\n",
      "“Using Astro’s Apache Airflow offering on Azure has modernized our data operations. Their best-in-class SLAs, multi-environment deployments, and intuitive dashboards have streamlined our processes, ensuring we can manage our critical pipelines.”\n",
      "- Kevin Schmidt, Sr Manager, Data Engineering at Molson Coors Beverage Company\n",
      "\n",
      "Unlocking Simplicity with Astro on Azure\n",
      "Organizations can now unify their data operations and streamline data orchestration with Astro’s integration on Azure. This simplifies Apache Airflow workflows, enabling businesses to innovate faster, enhance productivity, and manage costs more effectively.\n",
      "Azure users can easily create and deploy data pipelines without prior Airflow expertise. This translates to effortlessly managed Airflow, complete with developer-friendly features and reduced operational complexities.\n",
      "Astro also provides a seamless single sign-on experience, automatically configured through Azure. This eliminates the need for additional login credentials, ensuring a hassle-free and secure user experience.\n",
      "Furthermore, Astro integrates with Azure billing, appearing as a line item on your monthly statements. This Pay-as-you-Go model ensures you only pay for what you use, adapting dynamically to your evolving data needs.\n",
      "Better Together: Astro and Azure\n",
      "Through the integration of Astro with various Azure services, including Azure Data Factory, Azure AI, Azure Synapse Analytics, and Azure Data Explorer, you can effectively optimize your data operations, bolster business intelligence, and facilitate advanced AI application development.\n",
      "Beyond these essential features, Astro and Azure offer seamless connectivity for your data systems and applications with over 1500 integrations. This connectivity facilitates efficient workflow development by leveraging the Airflow ecosystem, providing access to Azure-compatible operators, hooks, and modules. This partnership simplifies the process of modernizing your data stack, making it a more accessible option for your organization.\n",
      "\n",
      "“As longtime users of Apache Airflow and Azure, we’re excited to be able to leverage the managed offering from the commercial stewards of the project natively on Azure. This allows us to focus on our data and Astro takes care of our data platform.”\n",
      "- Wongyu Choi, Director of Engineering and Analytics at AHRI\n"
     ]
    }
   ],
   "source": [
    "print(df.content.iat[0])"
   ]
  },
  {
   "cell_type": "code",
   "execution_count": 24,
   "metadata": {},
   "outputs": [
    {
     "name": "stdout",
     "output_type": "stream",
     "text": [
      "How to Get Started\n",
      "Getting started is easy, and we’ll walk through the steps:\n",
      "Go to https://portal.azure.com and search for Airflow in the top search bar. You’ll see a service named Apache Airflow™ on Astro - An Azure Native ISV Service which you can click on. Click \"Create Astro Organization\"In the following Create an Astro Organization screen there are a number of fields, many of which will look familiar if you are using other Azure services:Subscription: This is the Azure Subscription where any billing should be​​​​​​Resource Group: You can either use an existing resource group or create a new one. These are a good way to slice and dice usage within Azure Cost analysis.Resource Name: Objects in Azure are referred to as Resources and all have a name. A typical Resource Name could therefore be e.g. \"astro-airflow\".Region: This is the Region under which the Azure Resource is contained and is currently limited to East US. Please note that it is un-connected to the Azure region in which your Astro Airflow Deployments will be provisioned for which multiple Azure regions are supported.Astro Organization Name: This is typically the name of your company.​​​Workspace Name: Astro supports multiple Workspaces which are a way of grouping and controlling access to Airflow Deployments by team. At least one Workspace is needed and here you name that initial one.Plan / Billing term / Price + Payment options / Subtotal: At launch, a single Monthly Pay-As-You-Go plan is available. You’ll only be billed for what you use, which is why the initial payment is shown as $0, and you will receive $300 worth of credits to get started. Your usage is measured according to the Pay As You Go pricing model and is sent to the Azure Marketplace hourly in $0.01 increments. If you’re interested in an Annual Commitment then please contact us.You can optionally add Azure Tags to the Resource, which can be used to track billing information, but, otherwise simply click Review + create and then Create to confirm.Within a couple of minutes you’ll get a confirmation that your Resource has been successfully created; click the Go to resource button. This is the home of your Astro Organization Resource on Azure. From here, you can click Go to Astro to open Astro and start running Airflow DAGs! As part of the native integration, the sign-in to Astro is automatically configured via Azure, so no need to remember a new password or login method.​​​​​​ You may want to copy and bookmark the SSO URL (which is the same as the Go to Astro link) and share it with other team members. This is a special URL that will take you straight to the Astro UI and will log you in via Microsoft Entra ID. Alternatively, if you attempt to login at https://cloud.astronomer.io by entering your Azure email, you will be redirected to login via Azure. Other users in your company will be able to login using the same SSO URL or by entering their Azure login email address at https://cloud.astronomer.io. You can easily add newly signed in users to your existing Workspace, or create additional Workspaces if they’re part of a team that should have separate access. You can even configure System for Cross-Domain Identity Management (SCIM) with Microsoft Entra ID (formerly Azure AD) to automatically create and manage Astro users in appropriate Teams and Workspaces based on your Azure roles.\n"
     ]
    }
   ],
   "source": [
    "print(df.content.iat[1])"
   ]
  },
  {
   "cell_type": "code",
   "execution_count": null,
   "metadata": {},
   "outputs": [],
   "source": []
  }
 ],
 "metadata": {
  "kernelspec": {
   "display_name": ".venv",
   "language": "python",
   "name": "python3"
  },
  "language_info": {
   "codemirror_mode": {
    "name": "ipython",
    "version": 3
   },
   "file_extension": ".py",
   "mimetype": "text/x-python",
   "name": "python",
   "nbconvert_exporter": "python",
   "pygments_lexer": "ipython3",
   "version": "3.11.4"
  }
 },
 "nbformat": 4,
 "nbformat_minor": 2
}
