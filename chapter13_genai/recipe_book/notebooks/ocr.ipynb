{
 "cells": [
  {
   "cell_type": "code",
   "execution_count": 3,
   "metadata": {},
   "outputs": [],
   "source": [
    "import pytesseract\n",
    "from pytesseract import Output\n",
    "from PIL import Image\n",
    "import os\n",
    "# import cv2\n",
    "\n",
    "os.environ['TESSDATA_PREFIX'] = '.'"
   ]
  },
  {
   "cell_type": "code",
   "execution_count": 5,
   "metadata": {},
   "outputs": [
    {
     "name": "stdout",
     "output_type": "stream",
     "text": [
      " \n",
      "   \n",
      "\n",
      "P1 ea nu\n",
      "hresa\n",
      "\n",
      "¡>(1 7(,) Em /'IE»JM¿(F*) )1('(J¡)'7(,—V\n",
      "\n",
      "P&x(o LL(¿/“—LQ-/U£'(O ) fVJ D >\"“L*0“¿)\n",
      "Ó Zanaharas n X*< (0M…' (i mi priteata .\n",
      "1/3 “>wun… e ue hn/c > _ a l mi puta d\n",
      "[SeaWealii (3 d 3 qul a N í…r* S y_0£ (0Aº\n",
      "| LLCLLL(L )W(cLACL:I… n u<) XH 3…<anóL\n",
      "A d&Lnlzº d £ ajº 52100(ÁU xP_no\n",
      "\n",
      "XCLK ¿ &L &.L(Ja&i\n",
      "\n",
      "Sal al Suita , x,<. m >¿xíw,\n",
      "\n",
      "m,LC:IÍ — gr Ekí(0 (Ld Luata\n",
      "\n",
      "?gcle a de dala£ ”melicla CP¿=L…T\n",
      "\n",
      "    \n",
      "  \n",
      "  \n",
      " \n",
      "  \n",
      "\n",
      "  \n",
      "\n",
      " \n",
      " \n",
      "\n",
      "S¿U…Q ¿u5&\n",
      "ZLd\" alí J g (ºa(º¿J…íG CLLM)NX:& Lwt¿¡£\n",
      "¿N » ydna A]\n",
      "y ) 0Áo ºf £ “0e…% y\n",
      "\n",
      "xd_/_puwdo d_4 u) M/JÚQ AN\n",
      "dal ( Kxdecabs , la X…a Tha —\n",
      "Jo…ut1úc ga\n",
      "\n",
      "…” Qut nº pusdeank )vc¿ ) Lamnd\n",
      "U…Ó¿) Om auna (º r»¡ ¿ A )\n",
      "\n",
      "    \n",
      "  \n",
      "  \n",
      "  \n",
      " \n",
      "   \n",
      "\n",
      "0 ka &baLt (m ¿CL( Q……\n",
      "\n",
      "AN 3(>_ D C)) kUJ í%kwx 0 LLJJ £n el,\n",
      "\n",
      ",X<…L( A ©L\n",
      "\n",
      "[ a ume ul )\n",
      "l TVV J U)\n",
      "a ” ul\n",
      "\n",
      "S K. 0Q LLÍ4V\n",
      "UJ C' WLÁ¿1\n",
      "\n",
      ")'U+ A Q_,Wt ALLEL,\n",
      "3e H(LLIO—MC\n",
      "\f\n"
     ]
    }
   ],
   "source": [
    "img_path1 = 'image.jpeg'\n",
    "text = pytesseract.image_to_string(img_path1,lang='spa')\n",
    "print(text)"
   ]
  },
  {
   "cell_type": "code",
   "execution_count": null,
   "metadata": {},
   "outputs": [],
   "source": []
  },
  {
   "cell_type": "code",
   "execution_count": null,
   "metadata": {},
   "outputs": [],
   "source": []
  }
 ],
 "metadata": {
  "kernelspec": {
   "display_name": ".venv",
   "language": "python",
   "name": "python3"
  },
  "language_info": {
   "codemirror_mode": {
    "name": "ipython",
    "version": 3
   },
   "file_extension": ".py",
   "mimetype": "text/x-python",
   "name": "python",
   "nbconvert_exporter": "python",
   "pygments_lexer": "ipython3",
   "version": "3.11.2"
  }
 },
 "nbformat": 4,
 "nbformat_minor": 2
}
