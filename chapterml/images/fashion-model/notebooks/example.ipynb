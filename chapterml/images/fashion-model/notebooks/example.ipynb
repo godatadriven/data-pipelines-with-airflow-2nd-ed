{
 "cells": [
  {
   "cell_type": "code",
   "execution_count": 13,
   "metadata": {},
   "outputs": [
    {
     "data": {
      "text/plain": [
       "__main__.Dataset"
      ]
     },
     "execution_count": 13,
     "metadata": {},
     "output_type": "execute_result"
    }
   ],
   "source": [
    "from dataclasses import dataclass\n",
    "from typing import Tuple, NewType\n",
    "\n",
    "import keras\n",
    "import numpy as np\n",
    "import numpy.typing as npt\n",
    "\n",
    "\n",
    "@dataclass\n",
    "class Dataset:\n",
    "    images: npt.NDArray[np.uint8]\n",
    "    labels: npt.NDArray[np.uint8]\n",
    "\n",
    "\n",
    "TrainDataset = NewType(\"TrainDataset\", Dataset)\n",
    "TestDataset = NewType(\"TestDataset\", Dataset)\n",
    "\n",
    "\n",
    "def fetch_datasets() -> Tuple[TrainDataset, TestDataset]:\n",
    "    fashion_mnist = keras.datasets.fashion_mnist\n",
    "    (train_images, train_labels), (test_images, test_labels) = fashion_mnist.load_data()\n",
    "\n",
    "    train_dataset = TrainDataset(Dataset(images=train_images, labels=train_labels))\n",
    "    test_dataset = TestDataset(Dataset(images=test_images, labels=test_labels))\n",
    "\n",
    "    return train_dataset, test_dataset\n",
    "\n",
    "\n",
    "train_dataset, test_dataset = fetch_datasets()"
   ]
  },
  {
   "cell_type": "code",
   "execution_count": 18,
   "metadata": {},
   "outputs": [
    {
     "name": "stdout",
     "output_type": "stream",
     "text": [
      "Model: \"sequential_3\"\n",
      "_________________________________________________________________\n",
      " Layer (type)                Output Shape              Param #   \n",
      "=================================================================\n",
      " Conv1 (Conv2D)              (None, 13, 13, 8)         80        \n",
      "                                                                 \n",
      " flatten_3 (Flatten)         (None, 1352)              0         \n",
      "                                                                 \n",
      " Dense (Dense)               (None, 10)                13530     \n",
      "                                                                 \n",
      "=================================================================\n",
      "Total params: 13610 (53.16 KB)\n",
      "Trainable params: 13610 (53.16 KB)\n",
      "Non-trainable params: 0 (0.00 Byte)\n",
      "_________________________________________________________________\n",
      "1875/1875 [==============================] - 6s 3ms/step - loss: 0.5314 - sparse_categorical_accuracy: 0.8141\n"
     ]
    },
    {
     "data": {
      "text/plain": [
       "<keras.src.engine.sequential.Sequential at 0x136030190>"
      ]
     },
     "execution_count": 18,
     "metadata": {},
     "output_type": "execute_result"
    }
   ],
   "source": [
    "import keras\n",
    "import tensorflow as tf\n",
    "\n",
    "\n",
    "def train_model(dataset: TrainDataset, epochs: int = 5) -> keras.Model:\n",
    "    # Scale the values to 0.0 to 1.0\n",
    "    train_images = dataset.images / 255.0\n",
    "\n",
    "    # Reshape for feeding into the model\n",
    "    train_images = train_images.reshape(train_images.shape[0], 28, 28, 1)\n",
    "\n",
    "    # Define the model architecture.\n",
    "    model = keras.Sequential(\n",
    "        [\n",
    "            keras.layers.Conv2D(\n",
    "                input_shape=(28, 28, 1),\n",
    "                filters=8,\n",
    "                kernel_size=3,\n",
    "                strides=2,\n",
    "                activation=\"relu\",\n",
    "                name=\"Conv1\",\n",
    "            ),\n",
    "            keras.layers.Flatten(),\n",
    "            keras.layers.Dense(10, name=\"Dense\"),\n",
    "        ]\n",
    "    )\n",
    "    model.summary()\n",
    "\n",
    "    # Fit the model to the training data.\n",
    "    model.compile(\n",
    "        optimizer=\"adam\",\n",
    "        loss=tf.keras.losses.SparseCategoricalCrossentropy(from_logits=True),\n",
    "        metrics=[keras.metrics.SparseCategoricalAccuracy()],\n",
    "    )\n",
    "    model.fit(train_images, dataset.labels, epochs=epochs)\n",
    "\n",
    "    return model\n",
    "\n",
    "\n",
    "model = train_model(train_dataset, epochs=1)\n",
    "model"
   ]
  },
  {
   "cell_type": "code",
   "execution_count": null,
   "metadata": {},
   "outputs": [],
   "source": [
    "from typing import Dict\n",
    "\n",
    "def evaluate_model(test_dataset: TestDataset, model: keras.Model) -> Dict[str, float]:\n",
    "    test_images = test_dataset.images / 255.0\n",
    "    test_images = test_images.reshape(test_images.shape[0], 28, 28, 1)\n",
    "\n",
    "    _, test_acc = model.evaluate(test_images, test_dataset.labels)\n",
    "\n",
    "    return {\"accuracy\": test_acc}\n"
   ]
  },
  {
   "cell_type": "code",
   "execution_count": 4,
   "metadata": {},
   "outputs": [],
   "source": [
    "from fashion_model.prepare import fetch_dataset\n",
    "\n",
    "#fetch_dataset(output_path=\"_local\")\n",
    "fetch_dataset(output_path=\"s3://data/test\")"
   ]
  },
  {
   "cell_type": "code",
   "execution_count": 12,
   "metadata": {},
   "outputs": [
    {
     "ename": "AttributeError",
     "evalue": "module 'fsspec' has no attribute 'Filesystem'",
     "output_type": "error",
     "traceback": [
      "\u001b[0;31m---------------------------------------------------------------------------\u001b[0m",
      "\u001b[0;31mAttributeError\u001b[0m                            Traceback (most recent call last)",
      "Cell \u001b[0;32mIn[12], line 2\u001b[0m\n\u001b[1;32m      1\u001b[0m \u001b[38;5;28;01mimport\u001b[39;00m \u001b[38;5;21;01mfsspec\u001b[39;00m\n\u001b[0;32m----> 2\u001b[0m \u001b[43mfsspec\u001b[49m\u001b[38;5;241;43m.\u001b[39;49m\u001b[43mFilesystem\u001b[49m\n",
      "\u001b[0;31mAttributeError\u001b[0m: module 'fsspec' has no attribute 'Filesystem'"
     ]
    }
   ],
   "source": [
    "import fsspec\n",
    "\n",
    "fsspec.AbstractFileSystem"
   ]
  },
  {
   "cell_type": "code",
   "execution_count": 8,
   "metadata": {},
   "outputs": [
    {
     "data": {
      "text/plain": [
       "dtype('uint8')"
      ]
     },
     "execution_count": 8,
     "metadata": {},
     "output_type": "execute_result"
    }
   ],
   "source": [
    "train_labels.dtype"
   ]
  },
  {
   "cell_type": "code",
   "execution_count": 9,
   "metadata": {},
   "outputs": [
    {
     "data": {
      "text/plain": [
       "numpy.ndarray[typing.Any, numpy.dtype[numpy.float64]]"
      ]
     },
     "execution_count": 9,
     "metadata": {},
     "output_type": "execute_result"
    }
   ],
   "source": [
    "import numpy as np\n",
    "import numpy.typing as npt\n",
    "\n",
    "npt.NDArray[np.float64]"
   ]
  },
  {
   "cell_type": "code",
   "execution_count": null,
   "metadata": {},
   "outputs": [],
   "source": []
  }
 ],
 "metadata": {
  "kernelspec": {
   "display_name": ".venv",
   "language": "python",
   "name": "python3"
  },
  "language_info": {
   "codemirror_mode": {
    "name": "ipython",
    "version": 3
   },
   "file_extension": ".py",
   "mimetype": "text/x-python",
   "name": "python",
   "nbconvert_exporter": "python",
   "pygments_lexer": "ipython3",
   "version": "3.11.4"
  }
 },
 "nbformat": 4,
 "nbformat_minor": 2
}
