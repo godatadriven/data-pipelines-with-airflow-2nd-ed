{
 "cells": [
  {
   "cell_type": "code",
   "execution_count": null,
   "metadata": {},
   "outputs": [],
   "source": [
    "from langchain_openai.chat_models import AzureChatOpenAI  \n",
    "from langchain_openai import AzureOpenAIEmbeddings\n",
    "from langchain_weaviate.vectorstores import WeaviateVectorStore\n",
    "\n",
    "from langchain.chains import create_retrieval_chain\n",
    "from langchain.chains.combine_documents import create_stuff_documents_chain\n",
    "\n",
    "from vectorvault.chat.pages.utils import PROMPT\n",
    "\n",
    "import weaviate\n",
    "import os\n",
    "import json\n",
    "\n",
    "COLLECTION_NAME = \"recipes\""
   ]
  },
  {
   "cell_type": "code",
   "execution_count": null,
   "metadata": {},
   "outputs": [],
   "source": [
    "question = \"Whats the recipe for chocolate cookies?\"\n",
    "\n",
    "openai_client = AzureChatOpenAI(\n",
    "        model_name=\"gpt-4\", \n",
    "        deployment_name = \"gpt-4\",\n",
    "        api_version=\"2024-02-01\",\n",
    "    )\n",
    "\n",
    "with  weaviate.connect_to_local(\n",
    "    port=8083,\n",
    "    grpc_port=50051,\n",
    "    headers = {\"X-Azure-Api-Key\":  os.getenv('OPENAI_API_KEY')},\n",
    ") as weaviate_client:\n",
    "    \n",
    "    weaviate_db = WeaviateVectorStore(\n",
    "        client=weaviate_client, \n",
    "        index_name=COLLECTION_NAME, \n",
    "        text_key=\"chunk\", \n",
    "        embedding=AzureOpenAIEmbeddings(model=\"text-embedding-3-large\")\n",
    "    )\n",
    "    \n",
    "    combine_docs_chain = create_stuff_documents_chain(openai_client, PROMPT)\n",
    "    \n",
    "    rag_chain = create_retrieval_chain(weaviate_db.as_retriever(), combine_docs_chain)\n",
    "\n",
    "    output = rag_chain.invoke({\n",
    "        \"input\": question,\n",
    "        \"chat_history\": None\n",
    "        }\n",
    "    )\n",
    "\n",
    "response = json.loads(output[\"answer\"])\n",
    "print(response)"
   ]
  }
 ],
 "metadata": {
  "kernelspec": {
   "display_name": ".venv",
   "language": "python",
   "name": "python3"
  },
  "language_info": {
   "codemirror_mode": {
    "name": "ipython",
    "version": 3
   },
   "file_extension": ".py",
   "mimetype": "text/x-python",
   "name": "python",
   "nbconvert_exporter": "python",
   "pygments_lexer": "ipython3",
   "version": "3.12.4"
  }
 },
 "nbformat": 4,
 "nbformat_minor": 2
}
