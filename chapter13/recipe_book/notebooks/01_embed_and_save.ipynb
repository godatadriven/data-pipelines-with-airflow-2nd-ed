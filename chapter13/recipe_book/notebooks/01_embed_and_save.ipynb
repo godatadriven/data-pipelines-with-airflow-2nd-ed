{
 "cells": [
  {
   "cell_type": "code",
   "execution_count": 2,
   "metadata": {},
   "outputs": [
    {
     "name": "stdout",
     "output_type": "stream",
     "text": [
      "True\n"
     ]
    }
   ],
   "source": [
    "import weaviate\n",
    "from weaviate.config import AdditionalConfig\n",
    "from weaviate.classes.config import Configure\n",
    "\n",
    "import json\n",
    "import pandas as pd\n",
    "import numpy as np\n",
    "import os\n",
    "import dotenv\n",
    "\n",
    "dotenv.load_dotenv()\n",
    "\n",
    "AZURE_OPENAI_API_KEY = os.getenv('AZURE_OPENAI_API_KEY')\n",
    "AZURE_OPENAI_ENDPOINT = os.getenv('AZURE_OPENAI_ENDPOINT')\n",
    "AZURE_OPENAI_API_VERSION = os.getenv('OPENAI_API_VERSION')\n",
    "AZURE_OPENAI_RESOURCE_NAME = os.getenv('AZURE_OPENAI_RESOURCE_NAME')\n",
    "\n",
    "\n",
    "client = weaviate.connect_to_local(\n",
    "    port=8083,\n",
    "    grpc_port=50051,\n",
    "    # headers = {\n",
    "    #     \"X-Azure-Api-Key\": AZURE_OPENAI_API_KEY,\n",
    "    # },\n",
    ")\n",
    "\n",
    "print(client.is_ready())\n"
   ]
  },
  {
   "cell_type": "code",
   "execution_count": null,
   "metadata": {},
   "outputs": [],
   "source": [
    "data = pd.read_parquet('/home/isma/repos/book/data-pipelines-with-airflow-2nd-ed/chapter13_genai/recipe_book/notebooks/splitted_with_vectors.parquet')\n",
    "data"
   ]
  },
  {
   "cell_type": "code",
   "execution_count": null,
   "metadata": {},
   "outputs": [],
   "source": [
    "COLLECTION_NAME = \"recipes\"\n",
    "\n",
    "existing_collections = [item.lower() for item in list(client.collections.list_all().keys())]\n",
    "\n",
    "if COLLECTION_NAME.lower() in existing_collections:\n",
    "\n",
    "    client.collections.delete(COLLECTION_NAME)\n",
    "\n",
    "\n",
    "collection = client.collections.create(\n",
    "    COLLECTION_NAME,\n",
    "    vectorizer_config=[\n",
    "        Configure.NamedVectors.text2vec_azure_openai(\n",
    "            name=\"vector\",\n",
    "            source_properties=[\"chunk\"],\n",
    "            base_url= AZURE_OPENAI_ENDPOINT,\n",
    "            resource_name=AZURE_OPENAI_RESOURCE_NAME,\n",
    "            deployment_id=\"text-embedding-3-large\",\n",
    "        )    \n",
    "    ],\n",
    "\n",
    "\n",
    "\n",
    "\n",
    "\n",
    ")\n",
    "\n",
    "collection.config.get().to_dict()\n"
   ]
  },
  {
   "cell_type": "code",
   "execution_count": null,
   "metadata": {},
   "outputs": [],
   "source": [
    "COLLECTION_NAME = \"recipes\"\n",
    "collection = client.collections.get(COLLECTION_NAME)\n",
    "\n",
    "\n",
    "source_objects = json.loads( \n",
    "    data\n",
    "    .drop(columns=[\"document_sha\"])\n",
    "    .to_json(orient=\"records\")\n",
    ") \n",
    "\n",
    "\n",
    "with collection.batch.dynamic() as batch:\n",
    "    for src_obj in source_objects:\n",
    "        properties_obj = {\n",
    "            \"filename\": src_obj[\"filename\"],\n",
    "            \"chunk\": src_obj[\"chunk\"],\n",
    "        }\n",
    "\n",
    "        # The model provider integration will automatically vectorize the object\n",
    "        batch.add_object(\n",
    "            properties=properties_obj,\n",
    "            uuid=src_obj[\"chunk_sha\"],\n",
    "        )\n"
   ]
  },
  {
   "cell_type": "code",
   "execution_count": null,
   "metadata": {},
   "outputs": [],
   "source": [
    "\n",
    "response = collection.query.near_text(\n",
    "    query=\"Como hacer empanadas\",  # The model provider integration will automatically vectorize the query\n",
    "    limit=2\n",
    ")\n",
    "\n",
    "for obj in response.objects:\n",
    "    print(obj.properties[\"chunk\"])"
   ]
  },
  {
   "cell_type": "code",
   "execution_count": null,
   "metadata": {},
   "outputs": [],
   "source": [
    "for item in collection.iterator():\n",
    "    print(item.uuid, item.properties)"
   ]
  },
  {
   "cell_type": "code",
   "execution_count": null,
   "metadata": {},
   "outputs": [],
   "source": [
    "collection.data.delete_by_id(\n",
    "    '9c95627f-1e0c-5a5d-8bdd-eb4e9cbb7da0'\n",
    ")"
   ]
  },
  {
   "cell_type": "code",
   "execution_count": 3,
   "metadata": {},
   "outputs": [],
   "source": [
    "COLLECTION_NAME = \"recipes\"\n",
    "collection = client.collections.get(COLLECTION_NAME)"
   ]
  },
  {
   "cell_type": "code",
   "execution_count": 4,
   "metadata": {},
   "outputs": [
    {
     "name": "stdout",
     "output_type": "stream",
     "text": [
      "0005946b-0fc2-5304-8e81-fc6c09bd1fc0 {'filename': 'empanadas-argentinas.txt', 'chunk_sha': UUID('0005946b-0fc2-5304-8e81-fc6c09bd1fc0'), 'chunk': 'de harina, para extender la masa suficiente de huevo, para barnizar chimichurri al gusto, para acompañar Preparación En un bowl, mezcla la harina, la sal, polvo para hornear, la mantequilla y el vinagre hasta integrar muy bien la mantequilla, después vierte el agua poco a poco y mezcla hasta formar', 'document_sha': UUID('ec598303-9510-5d6e-9c5e-ccb43fcf8c4e')}\n",
      "035ecfda-a0a7-5c91-b708-f8db7dee9d21 {'filename': 'empanadas-argentinas.txt', 'chunk_sha': UUID('035ecfda-a0a7-5c91-b708-f8db7dee9d21'), 'chunk': 'Empanadas argentinas   Ingredientes Medidas 4 Porciones Seleccionar todos los ingredientes 2 tazas de harina de trigo, para la masa 1 cucharadita de sal, para la masa 1 cucharadita de polvo para hornear, para la masa 1/2 tazas de mantequilla, en cubos y a temperatura ambiente, para la masa 1/4 tazas', 'document_sha': UUID('ec598303-9510-5d6e-9c5e-ccb43fcf8c4e')}\n",
      "03b25e63-e9b7-5969-b34f-79ca177255cd {'filename': 'pavo-a-la-hawaiana.txt', 'chunk_sha': UUID('03b25e63-e9b7-5969-b34f-79ca177255cd'), 'chunk': 'Pavo a la hawaiana   Ingredientes  1 taza de salsa de soya 1 taza de cátsup 1 taza de azúcar mascabado 1/4 tazas de jugo de piña, en almíbar 1/3 tazas de caldo de pollo 2 cucharaditas de jengibre, finamente picado 2 cucharaditas de ajo, finamente picado 1 paquete de Fajitas de Pavo Dos Familias 1', 'document_sha': UUID('3303775d-98cc-5c62-adef-be3dce52c5a4')}\n",
      "06b73082-b073-5b20-acc5-0d0ee52fcaff {'filename': 'empanadas-argentinas.txt', 'chunk_sha': UUID('06b73082-b073-5b20-acc5-0d0ee52fcaff'), 'chunk': 'para la masa 1/2 tazas de mantequilla, en cubos y a temperatura ambiente, para la masa 1/4 tazas de vinagre blanco, para la masa 1 taza de agua de anís, para la masa 2 cucharadas de aceite de oliva, para el relleno 1 taza de cebolla, finamente picada, para el relleno de carne 1 cucharada de ajo,', 'document_sha': UUID('ec598303-9510-5d6e-9c5e-ccb43fcf8c4e')}\n",
      "25058cd0-cab2-5896-a972-53ddb7fbe0fb {'filename': 'empanadas-argentinas.txt', 'chunk_sha': UUID('25058cd0-cab2-5896-a972-53ddb7fbe0fb'), 'chunk': 'cierra con ayuda de un tenedor. Barniza las empanadas argentinas con el huevo y hornea a 180 °C por 30 minutos. Sirve las empanadas y acompaña con chimichurri.', 'document_sha': UUID('ec598303-9510-5d6e-9c5e-ccb43fcf8c4e')}\n",
      "3a3c05da-62b4-5343-88d6-29f9dacaa08e {'chunk': 'en un sartén a fuego medio, agrega la cebolla y cocina por 5 minutos. Añade el elote, cocina por 2 minutos y retira del fuego. Espolvorea un poco de harina sobre una superficie plana, extiende la masa y corta en círculos de 5 cm de ancho. Coloca la mitad de los discos de masa en una charola,', 'chunk_sha': UUID('3a3c05da-62b4-5343-88d6-29f9dacaa08e'), 'filename': 'empanadas-argentinas.txt', 'document_sha': UUID('ec598303-9510-5d6e-9c5e-ccb43fcf8c4e')}\n",
      "4036e1d3-7a36-5040-87ce-2ef750504a69 {'filename': 'empanadas-argentinas.txt', 'chunk_sha': UUID('4036e1d3-7a36-5040-87ce-2ef750504a69'), 'chunk': 'Para el relleno de carne: calienta el aceite de oliva en un sartén y agrega la cebolla, el ajo y el pimiento rojo y cocina por 5 minutos. Incorpora la carne molida, la sal, la pimienta, el orégano y el comino y cocina por 10 minutos o hasta que la carne esté muy bien cocida. Retira del fuego y', 'document_sha': UUID('ec598303-9510-5d6e-9c5e-ccb43fcf8c4e')}\n",
      "734f1e08-b10d-514c-8ff9-02517b337b88 {'filename': 'pavo-a-la-hawaiana.txt', 'chunk_sha': UUID('734f1e08-b10d-514c-8ff9-02517b337b88'), 'chunk': 'picado 2 cucharaditas de ajo, finamente picado 1 paquete de Fajitas de Pavo Dos Familias 1 lata de piña en almíbar, en cubos arroz blanco al gusto, al vapor cilantro al gusto   Preparación En un bowl, combina la salsa de soya, la cátsup, el azúcar mascabado, el almíbar de la piña, el caldo de', 'document_sha': UUID('3303775d-98cc-5c62-adef-be3dce52c5a4')}\n",
      "775464e4-9e4a-51cb-812b-352ee260f6ab {'filename': 'empanadas-argentinas.txt', 'chunk_sha': UUID('775464e4-9e4a-51cb-812b-352ee260f6ab'), 'chunk': 'relleno de carne 2 tazas de carne molida de res, para el relleno de carne sal y pimienta al gusto 2 cucharaditas de orégano, para el relleno de carne 2 cucharaditas de comino, para el relleno de carne 1 taza de huevo duro, finamente picado, para el relleno de carne 1/4 tazas de aceituna, finamente', 'document_sha': UUID('ec598303-9510-5d6e-9c5e-ccb43fcf8c4e')}\n",
      "867061c8-ad01-506b-9a03-6daa593bec17 {'filename': 'pavo-a-la-hawaiana.txt', 'chunk_sha': UUID('867061c8-ad01-506b-9a03-6daa593bec17'), 'chunk': 'durante 20 minutos. Calienta un poco de aceite en una sartén, añade la piña y las Fajitas de Pavo Dos Familias marinadas. Cocina por 15 minutos o hasta que estén bien cocidas y la marinada se espese. Sirve el pavo a la hawaiana sobre arroz blanco al vapor y decora con cilantro.', 'document_sha': UUID('3303775d-98cc-5c62-adef-be3dce52c5a4')}\n",
      "8fcd654d-8901-557d-b8aa-934b8e304afc {'filename': 'empanadas-argentinas.txt', 'chunk_sha': UUID('8fcd654d-8901-557d-b8aa-934b8e304afc'), 'chunk': 'la masa y corta en círculos de 5 cm de ancho. Coloca la mitad de los discos de masa en una charola, rellena con la carne y cierra, trenzándolos. Rellena la otra mitad de la masa con elote y queso y cierra con ayuda de un tenedor. Barniza las empanadas argentinas con el huevo y hornea a 180 °C por', 'document_sha': UUID('ec598303-9510-5d6e-9c5e-ccb43fcf8c4e')}\n",
      "934e116c-6f2f-5360-ab34-62c35d5928f3 {'filename': 'empanadas-argentinas.txt', 'chunk_sha': UUID('934e116c-6f2f-5360-ab34-62c35d5928f3'), 'chunk': 'tazas de cebolla, finamente picada, para el relleno de elote 2 tazas de elote amarillo, desgranado, para el relleno de elote 2 tazas de queso manchego, rallado, para el relleno de elote suficiente de harina, para extender la masa suficiente de huevo, para barnizar chimichurri al gusto, para', 'document_sha': UUID('ec598303-9510-5d6e-9c5e-ccb43fcf8c4e')}\n",
      "96d97dc6-a290-5dc2-ad8d-c920203890f8 {'filename': 'empanadas-argentinas.txt', 'chunk_sha': UUID('96d97dc6-a290-5dc2-ad8d-c920203890f8'), 'chunk': 'para el relleno 1 taza de cebolla, finamente picada, para el relleno de carne 1 cucharada de ajo, finamente picado, para el relleno de carne 1/4 tazas de pimiento rojo, en cubos pequeños, para el relleno de carne 2 tazas de carne molida de res, para el relleno de carne sal y pimienta al gusto 2', 'document_sha': UUID('ec598303-9510-5d6e-9c5e-ccb43fcf8c4e')}\n",
      "bb696622-60f5-561a-b942-b69cc115b029 {'filename': 'pavo-a-la-hawaiana.txt', 'chunk_sha': UUID('bb696622-60f5-561a-b942-b69cc115b029'), 'chunk': 'bowl, combina la salsa de soya, la cátsup, el azúcar mascabado, el almíbar de la piña, el caldo de pollo, el jengibre y el ajo. Marina las Fajitas de Pavo Dos Familias con la mezcla anterior en refrigeración durante 20 minutos. Calienta un poco de aceite en una sartén, añade la piña y las Fajitas', 'document_sha': UUID('3303775d-98cc-5c62-adef-be3dce52c5a4')}\n",
      "bf172846-3646-563b-87cc-ac92faba3556 {'filename': 'empanadas-argentinas.txt', 'chunk_sha': UUID('bf172846-3646-563b-87cc-ac92faba3556'), 'chunk': 'y el comino y cocina por 10 minutos o hasta que la carne esté muy bien cocida. Retira del fuego y mezcla con el huevo y las aceitunas. Deja enfriar. Para el relleno de elote: derrite la mantequilla en un sartén a fuego medio, agrega la cebolla y cocina por 5 minutos. Añade el elote, cocina por 2', 'document_sha': UUID('ec598303-9510-5d6e-9c5e-ccb43fcf8c4e')}\n",
      "f5008fa0-5b1a-5e7b-8d0e-72e5610724b6 {'filename': 'empanadas-argentinas.txt', 'chunk_sha': UUID('f5008fa0-5b1a-5e7b-8d0e-72e5610724b6'), 'chunk': '1 taza de huevo duro, finamente picado, para el relleno de carne 1/4 tazas de aceituna, finamente picada, para el relleno de carne 2 cucharadas de mantequilla, en cubos, para el relleno de elote 1/2 tazas de cebolla, finamente picada, para el relleno de elote 2 tazas de elote amarillo, desgranado,', 'document_sha': UUID('ec598303-9510-5d6e-9c5e-ccb43fcf8c4e')}\n",
      "fefc537e-18da-5e96-a9f7-62c24d41763f {'filename': 'empanadas-argentinas.txt', 'chunk_sha': UUID('fefc537e-18da-5e96-a9f7-62c24d41763f'), 'chunk': 'hasta integrar muy bien la mantequilla, después vierte el agua poco a poco y mezcla hasta formar una masa. Cuando la masa tenga una consistencia homogénea, tapa con un trapo y deja reposar por 20 minutos. Para el relleno de carne: calienta el aceite de oliva en un sartén y agrega la cebolla, el ajo', 'document_sha': UUID('ec598303-9510-5d6e-9c5e-ccb43fcf8c4e')}\n"
     ]
    }
   ],
   "source": [
    "for item in collection.iterator():\n",
    "    print(item.uuid, item.properties)"
   ]
  },
  {
   "cell_type": "code",
   "execution_count": null,
   "metadata": {},
   "outputs": [],
   "source": [
    "client.collections.delete(COLLECTION_NAME)"
   ]
  }
 ],
 "metadata": {
  "kernelspec": {
   "display_name": ".venv",
   "language": "python",
   "name": "python3"
  },
  "language_info": {
   "codemirror_mode": {
    "name": "ipython",
    "version": 3
   },
   "file_extension": ".py",
   "mimetype": "text/x-python",
   "name": "python",
   "nbconvert_exporter": "python",
   "pygments_lexer": "ipython3",
   "version": "3.10.12"
  }
 },
 "nbformat": 4,
 "nbformat_minor": 2
}
