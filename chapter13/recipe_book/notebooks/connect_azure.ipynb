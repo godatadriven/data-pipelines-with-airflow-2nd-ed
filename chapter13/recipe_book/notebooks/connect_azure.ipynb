{
 "cells": [
  {
   "cell_type": "code",
   "execution_count": null,
   "metadata": {},
   "outputs": [],
   "source": [
    "import weaviate\n",
    "import os\n",
    "\n",
    "AZURE_OPEN_API_KEY = os.getenv('AZURE_OPEN_API_KEY')\n",
    "AZURE_OPEN_AI_ORGANIZATION = os.getenv('AZURE_OPEN_AI_ORGANIZATION')\n",
    "AZURE_OPEN_AI_BASE_URL = os.getenv('AZURE_OPEN_AI_BASE_URL')\n",
    "\n",
    "\n",
    "\n",
    "client = weaviate.Client(\n",
    "    \"http://localhost:8083\",     \n",
    "    additional_headers={\n",
    "        \"X-Openai-Api-Key\":AZURE_OPEN_API_KEY,\n",
    "        \"X-OpenAI-BaseURL\":\"\",\n",
    "        \"X-OpenAI-Organization\": AZURE_OPEN_AI_ORGANIZATION\n",
    "    }\n",
    ")\n",
    "\n"
   ]
  },
  {
   "cell_type": "code",
   "execution_count": null,
   "metadata": {},
   "outputs": [],
   "source": []
  },
  {
   "cell_type": "markdown",
   "metadata": {},
   "source": []
  },
  {
   "cell_type": "code",
   "execution_count": null,
   "metadata": {},
   "outputs": [],
   "source": []
  },
  {
   "cell_type": "code",
   "execution_count": null,
   "metadata": {},
   "outputs": [],
   "source": [
    "client.get_meta()"
   ]
  },
  {
   "cell_type": "code",
   "execution_count": null,
   "metadata": {},
   "outputs": [],
   "source": []
  },
  {
   "cell_type": "code",
   "execution_count": null,
   "metadata": {},
   "outputs": [],
   "source": [
    "obj = {\n",
    "    \"classes\": [\n",
    "        {\n",
    "            \"class\": \"AzureTrial1\",\n",
    "            \"description\": \"Document from github or stackoverflow\",\n",
    "            \"vectorizer\": \"text2vec-openai\",\n",
    "            \"moduleConfig\": {\n",
    "                \"text2vec-openai\": {\n",
    "                    \"resourceName\": \"slackgpt-openai-fr\", #xebia-slackgpt-playground\n",
    "                    \"deploymentId\": \"text-embedding-ada-002\"\n",
    "                },\n",
    "                # \"reranker-cohere\": {\n",
    "                #     \"model\": \"rerank-multilingual-v2.0\"\n",
    "                # },\n",
    "                \"generative-openai\": {\n",
    "                    \"resourceName\":\"slackgpt-openai-fr\",\n",
    "                    \"deploymentId\": \"gpt-35-turbo\"\n",
    "                  },\n",
    "                # \"qna-openai\": {\n",
    "                #     \"model\": \"text-davinci-003\",\n",
    "                #     \"maxTokens\": 100,\n",
    "                #     \"temperature\": 0.0,\n",
    "                #     \"topP\": 1,\n",
    "                #     \"frequencyPenalty\": 0.0,\n",
    "                #     \"presencePenalty\": 0.0\n",
    "                #   }\n",
    "            },\n",
    "            \"properties\": [\n",
    "                {\n",
    "                    \"name\": \"docSource\",\n",
    "                    \"description\": \"Type of document ('learn', 'astro', 'airflow', 'stackoverflow', 'code_samples')\",\n",
    "                    \"dataType\": [\"text\"],\n",
    "                    \"moduleConfig\": {\n",
    "                        \"text2vec-openai\": {\n",
    "                            \"skip\": \"False\",\n",
    "                            \"vectorizePropertyName\": \"False\"\n",
    "                        }\n",
    "                    }\n",
    "                },\n",
    "                {\n",
    "                    \"name\": \"docLink\",\n",
    "                    \"description\": \"The url of source data\",\n",
    "                    \"dataType\": [\"text\"],\n",
    "                    \"tokenization\": \"field\",\n",
    "                    \"moduleConfig\": {\n",
    "                        \"text2vec-openai\": {\n",
    "                            \"skip\": \"True\",\n",
    "                            \"vectorizePropertyName\": \"False\"\n",
    "                        }\n",
    "                    }\n",
    "                },\n",
    "                {\n",
    "                    \"name\": \"content\",\n",
    "                    \"description\": \"Document content\",\n",
    "                    \"dataType\": [\"text\"],\n",
    "                    \"tokenization\": \"whitespace\",\n",
    "                    \"moduleConfig\": {\n",
    "                        \"text2vec-openai\": {\n",
    "                            \"skip\": \"False\",\n",
    "                            \"vectorizePropertyName\": \"False\"\n",
    "                        }\n",
    "                    }\n",
    "                },\n",
    "                {\n",
    "                    \"name\": \"sha\",\n",
    "                    \"description\": \"sha digest of content for checking changes\",\n",
    "                    \"dataType\": [\"text\"],\n",
    "                    \"moduleConfig\": {\n",
    "                        \"text2vec-openai\": {\n",
    "                            \"skip\": \"True\",\n",
    "                            \"vectorizePropertyName\": \"False\"\n",
    "                        }\n",
    "                    }\n",
    "                }\n",
    "            ]\n",
    "        }\n",
    "    ]\n",
    "}\n"
   ]
  },
  {
   "cell_type": "code",
   "execution_count": null,
   "metadata": {},
   "outputs": [],
   "source": [
    "client.schema.create(obj)"
   ]
  },
  {
   "cell_type": "code",
   "execution_count": null,
   "metadata": {},
   "outputs": [],
   "source": [
    "client.schema.get()"
   ]
  },
  {
   "cell_type": "code",
   "execution_count": null,
   "metadata": {},
   "outputs": [],
   "source": [
    "# client.schema.delete_all()"
   ]
  },
  {
   "cell_type": "code",
   "execution_count": null,
   "metadata": {},
   "outputs": [],
   "source": []
  },
  {
   "cell_type": "code",
   "execution_count": null,
   "metadata": {},
   "outputs": [],
   "source": []
  },
  {
   "cell_type": "code",
   "execution_count": null,
   "metadata": {},
   "outputs": [],
   "source": [
    "results = client.data_object.create( {\"docSource\":\"learn\", \"docLink\":\"\"}, \"AzureTrial1\")"
   ]
  },
  {
   "cell_type": "code",
   "execution_count": null,
   "metadata": {},
   "outputs": [],
   "source": [
    "results"
   ]
  },
  {
   "cell_type": "code",
   "execution_count": null,
   "metadata": {},
   "outputs": [],
   "source": [
    "client.query.get(\"AzureTrial1\", \"docSource\").with_additional(\"vector\").build()"
   ]
  },
  {
   "cell_type": "code",
   "execution_count": null,
   "metadata": {},
   "outputs": [],
   "source": [
    "client.query.get(\"AzureTrial1\", \"docSource\").with_additional(\"vector\").do()"
   ]
  },
  {
   "cell_type": "code",
   "execution_count": null,
   "metadata": {},
   "outputs": [],
   "source": []
  }
 ],
 "metadata": {
  "kernelspec": {
   "display_name": ".venv",
   "language": "python",
   "name": "python3"
  },
  "language_info": {
   "codemirror_mode": {
    "name": "ipython",
    "version": 3
   },
   "file_extension": ".py",
   "mimetype": "text/x-python",
   "name": "python",
   "nbconvert_exporter": "python",
   "pygments_lexer": "ipython3",
   "version": "3.10.12"
  }
 },
 "nbformat": 4,
 "nbformat_minor": 2
}
