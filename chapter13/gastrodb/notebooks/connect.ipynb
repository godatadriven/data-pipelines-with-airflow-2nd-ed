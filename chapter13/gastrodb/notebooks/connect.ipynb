{
 "cells": [
  {
   "cell_type": "code",
   "execution_count": null,
   "metadata": {},
   "outputs": [],
   "source": [
    "import weaviate\n",
    "\n",
    "client = weaviate.Client(\"http://localhost:8085\")\n",
    "\n",
    "class_obj = {\n",
    "    \"class\": \"Article3\",\n",
    "    \"description\": \"A written text, for example a news article or blog post\",\n",
    "    \"properties\": [\n",
    "        {\n",
    "            \"dataType\": [\"text\"],\n",
    "            \"description\": \"Title of the article\",\n",
    "            \"name\": \"title\",\n",
    "        },\n",
    "        {\n",
    "            \"dataType\": [\"text\"],\n",
    "            \"description\": \"The content of the article\",\n",
    "            \"name\": \"content\"\n",
    "        }\n",
    "    ]\n",
    "}\n",
    "\n",
    "client.schema.create_class(class_obj)"
   ]
  },
  {
   "cell_type": "code",
   "execution_count": null,
   "metadata": {},
   "outputs": [],
   "source": []
  },
  {
   "cell_type": "code",
   "execution_count": null,
   "metadata": {},
   "outputs": [],
   "source": [
    "import weaviate\n",
    "from langchain.vectorstores.weaviate import Weaviate as WeaviateStore\n",
    "\n",
    "\n",
    "schema = client.schema.get(\"Article\")\n",
    "print(schema)"
   ]
  },
  {
   "cell_type": "code",
   "execution_count": null,
   "metadata": {},
   "outputs": [],
   "source": [
    "import weaviate\n",
    "\n",
    "\n",
    "schema = client.schema.get()\n",
    "print(schema)"
   ]
  },
  {
   "cell_type": "code",
   "execution_count": null,
   "metadata": {},
   "outputs": [],
   "source": [
    "import weaviate\n",
    "from langchain.vectorstores.weaviate import Weaviate as WeaviateStore\n",
    "from langchain.chains import RetrievalQA\n",
    "\n"
   ]
  },
  {
   "cell_type": "code",
   "execution_count": null,
   "metadata": {},
   "outputs": [],
   "source": [
    "\n",
    "\n",
    "client = weaviate.Client(\"http://localhost:8085\")\n",
    "vectorstore = WeaviateStore(client, \"Ismael2\", \"content\")\n",
    "\n",
    "    "
   ]
  },
  {
   "cell_type": "code",
   "execution_count": null,
   "metadata": {},
   "outputs": [],
   "source": [
    "\n",
    "qa = RetrievalQA.from_chain_type(llm=client, chain_type=\"map_reduce\", retriever=vectorstore.as_retriever())\n"
   ]
  },
  {
   "cell_type": "code",
   "execution_count": null,
   "metadata": {},
   "outputs": [],
   "source": []
  },
  {
   "cell_type": "code",
   "execution_count": null,
   "metadata": {},
   "outputs": [],
   "source": [
    "response = (\n",
    "    client.query\n",
    "    .get(\"Question\", [\"question\", \"answer\", \"category\"])\n",
    "    .with_near_text({\"concepts\": [\"dbt\"]})\n",
    "    .with_limit(2)\n",
    "    .do()\n",
    ")\n"
   ]
  },
  {
   "cell_type": "code",
   "execution_count": null,
   "metadata": {},
   "outputs": [],
   "source": [
    "response"
   ]
  },
  {
   "cell_type": "code",
   "execution_count": null,
   "metadata": {},
   "outputs": [],
   "source": [
    "CLASS_NAME = \"Ismael2\"\n",
    "movie = client.query_without_vector(\n",
    "    \" \".join([\"innovation\", \"friends\"]),\n",
    "    CLASS_NAME,\n",
    "    [\n",
    "        \"title\",\n",
    "        \"year\",\n",
    "        \"genre\",\n",
    "        \"description\",\n",
    "    ],\n",
    "    limit=1,\n",
    ")"
   ]
  },
  {
   "cell_type": "code",
   "execution_count": null,
   "metadata": {},
   "outputs": [],
   "source": [
    "from airflow.providers.weaviate.hooks.weaviate import WeaviateHook\n",
    "WEAVIATE_USER_CONN_ID = \"weaviate_default\"\n",
    "\n",
    "hook = WeaviateHook(WEAVIATE_USER_CONN_ID, \"http://localhost:8085\")"
   ]
  },
  {
   "cell_type": "code",
   "execution_count": null,
   "metadata": {},
   "outputs": [],
   "source": [
    "CLASS_NAME = \"Ismael2\"\n",
    "movie_concepts = [\"innovation\", \"friends\"]\n",
    "\n",
    "\n",
    "\n",
    "movie = hook.query_without_vector(\n",
    "    \" \".join(movie_concepts),\n",
    "    CLASS_NAME,\n",
    "    [\n",
    "        \"title\",\n",
    "        \"year\",\n",
    "        \"genre\",\n",
    "        \"description\",\n",
    "    ],\n",
    "    limit=1,\n",
    ")"
   ]
  },
  {
   "cell_type": "markdown",
   "metadata": {},
   "source": []
  },
  {
   "cell_type": "code",
   "execution_count": null,
   "metadata": {},
   "outputs": [],
   "source": []
  },
  {
   "cell_type": "code",
   "execution_count": null,
   "metadata": {},
   "outputs": [],
   "source": []
  },
  {
   "cell_type": "code",
   "execution_count": null,
   "metadata": {},
   "outputs": [],
   "source": []
  },
  {
   "cell_type": "code",
   "execution_count": null,
   "metadata": {},
   "outputs": [],
   "source": []
  },
  {
   "cell_type": "code",
   "execution_count": null,
   "metadata": {},
   "outputs": [],
   "source": []
  },
  {
   "cell_type": "code",
   "execution_count": null,
   "metadata": {},
   "outputs": [],
   "source": [
    "import weaviate\n",
    "from langchain.chains import RetrievalQA\n",
    "from langchain.llms import OpenAI as langchain_openai\n",
    "from langchain.vectorstores.weaviate import Weaviate as WeaviateStore\n",
    "\n",
    "\n",
    "client = weaviate.Client(\"http://localhost:8085\",     additional_headers={\n",
    "                \"X-Azure-Api-Key\":OPEN_API_KEY,\n",
    "            \"X-OpenAI-BaseURL\":\"https://slackgpt-openai-fr.openai.azure.com/\"\n",
    "\n",
    "\n",
    "    })\n"
   ]
  },
  {
   "cell_type": "code",
   "execution_count": null,
   "metadata": {},
   "outputs": [],
   "source": [
    "vectorstore = WeaviateStore(client, \"Ismael2\", \"content\")\n",
    "openai_client = langchain_openai(temperature=0.5, openai_api_key=OPEN_API_KEY)\n",
    "\n"
   ]
  },
  {
   "cell_type": "code",
   "execution_count": null,
   "metadata": {},
   "outputs": [],
   "source": [
    "qa = RetrievalQA.from_chain_type(llm=openai_client, chain_type=\"map_reduce\", retriever=vectorstore.as_retriever())\n"
   ]
  },
  {
   "cell_type": "code",
   "execution_count": null,
   "metadata": {},
   "outputs": [],
   "source": [
    "langchain_question = \"what is DBT?\"\n",
    "result = qa.run(langchain_question)\n",
    "result"
   ]
  },
  {
   "cell_type": "code",
   "execution_count": null,
   "metadata": {},
   "outputs": [],
   "source": []
  },
  {
   "cell_type": "code",
   "execution_count": null,
   "metadata": {},
   "outputs": [],
   "source": [
    "import pandas as pd\n",
    "df = pd.read_parquet(\"/Users/icabral/repos/VectorVault/dags/astro_blog.parquet\")"
   ]
  },
  {
   "cell_type": "code",
   "execution_count": null,
   "metadata": {},
   "outputs": [],
   "source": [
    "print(df.content.iat[0])"
   ]
  },
  {
   "cell_type": "code",
   "execution_count": null,
   "metadata": {},
   "outputs": [],
   "source": [
    "print(df.content.iat[1])"
   ]
  },
  {
   "cell_type": "code",
   "execution_count": null,
   "metadata": {},
   "outputs": [],
   "source": []
  }
 ],
 "metadata": {
  "kernelspec": {
   "display_name": ".venv",
   "language": "python",
   "name": "python3"
  },
  "language_info": {
   "codemirror_mode": {
    "name": "ipython",
    "version": 3
   },
   "file_extension": ".py",
   "mimetype": "text/x-python",
   "name": "python",
   "nbconvert_exporter": "python",
   "pygments_lexer": "ipython3",
   "version": "3.11.4"
  }
 },
 "nbformat": 4,
 "nbformat_minor": 2
}
