{
 "cells": [
  {
   "cell_type": "code",
   "execution_count": null,
   "metadata": {},
   "outputs": [],
   "source": [
    "import pandas as pd\n",
    "import numpy as np\n",
    "import os\n",
    "import dotenv\n",
    "from weaviate.util import generate_uuid5\n",
    "\n",
    "\n",
    "import re\n",
    "from openai import AzureOpenAI\n",
    "\n",
    "\n",
    "\n",
    "dotenv.load_dotenv()\n",
    "\n",
    "AZURE_OPENAI_API_KEY = os.getenv('AZURE_OPENAI_API_KEY')\n",
    "AZURE_OPENAI_ENDPOINT = os.getenv('AZURE_OPENAI_ENDPOINT')\n",
    "\n",
    "\n",
    "# AZURE_OPEN_AI_ORGANIZATION = os.getenv('AZURE_OPEN_AI_ORGANIZATION')\n",
    "\n"
   ]
  },
  {
   "cell_type": "code",
   "execution_count": null,
   "metadata": {},
   "outputs": [],
   "source": [
    "import fsspec\n",
    "from typing import Tuple, List\n",
    "import pandas as pd\n",
    "\n",
    "path = \"/home/isma/repos/book/data-pipelines-with-airflow-2nd-ed/chapter13_genai/recipe_book/sample_recipes/2024-10-14\"\n",
    "\n",
    "\n",
    "def list_files_from_fs(path: str) -> List[str]:\n",
    "\n",
    "    fs, base_path = fsspec.core.url_to_fs(path)\n",
    "\n",
    "    return fs.ls(base_path)\n",
    "\n",
    "files_to_process = list_files_from_fs(path)\n",
    "files_to_process"
   ]
  },
  {
   "cell_type": "code",
   "execution_count": null,
   "metadata": {},
   "outputs": [],
   "source": [
    "def get_minio_fs(path: str) -> Tuple[fsspec.spec.AbstractFileSystem, str]:   \n",
    "\n",
    "    return fsspec.core.url_to_fs(path)\n",
    "\n",
    "def append_content(files_to_process: List[str], path:str) -> pd.DataFrame:\n",
    "\n",
    "    fs, base_path = get_minio_fs(f\"{path}\")\n",
    "    content = []    \n",
    "\n",
    "    for file in files_to_process:\n",
    "\n",
    "        filename = file.split(\"/\")[-1]\n",
    "\n",
    "        with fs.open(f\"{base_path}/{filename}\", \"rb\") as file_:\n",
    "            content.append({\"filename\": filename, \"chunk\": file_.read()})\n",
    "\n",
    "    return pd.DataFrame(content)\n"
   ]
  },
  {
   "cell_type": "code",
   "execution_count": null,
   "metadata": {},
   "outputs": [],
   "source": [
    "def clean(df, content_col:str) -> pd.DataFrame:\n",
    "\n",
    "    df = df.assign(\n",
    "        **{content_col: lambda df: \n",
    "           df[content_col].astype(str)\n",
    "           .str.replace(\"\\n\", \" \" )\n",
    "            .str.strip()\n",
    "        }\n",
    "    )\n",
    "   \n",
    "    return df"
   ]
  },
  {
   "cell_type": "code",
   "execution_count": null,
   "metadata": {},
   "outputs": [],
   "source": []
  },
  {
   "cell_type": "code",
   "execution_count": null,
   "metadata": {},
   "outputs": [],
   "source": [
    "\n",
    "df = (\n",
    "    append_content(files_to_process, path)\n",
    "    .pipe(clean, content_col=\"chunk\")\n",
    "    .assign( \n",
    "        document_sha = lambda df: [generate_uuid5(file) for file in df.filename],\n",
    "        chunk_sha = lambda df: [generate_uuid5(file) for file in df.chunk],\n",
    "    )\n",
    "    .reset_index(drop=True)\n",
    "    .loc[:, [\"filename\", \"document_sha\", \"chunk_sha\", \"chunk\"]]\n",
    ")\n",
    "\n",
    "df\n"
   ]
  },
  {
   "cell_type": "code",
   "execution_count": null,
   "metadata": {},
   "outputs": [],
   "source": []
  },
  {
   "cell_type": "code",
   "execution_count": null,
   "metadata": {},
   "outputs": [],
   "source": []
  },
  {
   "cell_type": "code",
   "execution_count": null,
   "metadata": {},
   "outputs": [],
   "source": [
    "client = AzureOpenAI(\n",
    "  api_key = AZURE_OPENAI_API_KEY,  \n",
    "  api_version = \"2024-02-01\",\n",
    "  azure_endpoint = AZURE_OPENAI_ENDPOINT\n",
    ")"
   ]
  },
  {
   "cell_type": "code",
   "execution_count": null,
   "metadata": {},
   "outputs": [],
   "source": [
    "def generate_embeddings(text, model=\"text-embedding-ada-002\"): # model = \"deployment_name\"\n",
    "    return client.embeddings.create(input = [text], model=model).data[0].embedding\n"
   ]
  },
  {
   "cell_type": "code",
   "execution_count": null,
   "metadata": {},
   "outputs": [],
   "source": [
    "data['vector'] = data[\"chunk\"].apply(lambda x : generate_embeddings (x, model = 'text-embedding-ada-002')) # model shou"
   ]
  },
  {
   "cell_type": "code",
   "execution_count": null,
   "metadata": {},
   "outputs": [],
   "source": [
    "type(df.chunk[0])"
   ]
  }
 ],
 "metadata": {
  "kernelspec": {
   "display_name": ".venv",
   "language": "python",
   "name": "python3"
  },
  "language_info": {
   "codemirror_mode": {
    "name": "ipython",
    "version": 3
   },
   "file_extension": ".py",
   "mimetype": "text/x-python",
   "name": "python",
   "nbconvert_exporter": "python",
   "pygments_lexer": "ipython3",
   "version": "3.10.12"
  }
 },
 "nbformat": 4,
 "nbformat_minor": 2
}
