{
 "cells": [
  {
   "cell_type": "code",
   "execution_count": null,
   "metadata": {},
   "outputs": [],
   "source": [
    "import weaviate\n",
    "from weaviate.config import AdditionalConfig\n",
    "from weaviate.classes.config import Configure\n",
    "\n",
    "import json\n",
    "import pandas as pd\n",
    "import numpy as np\n",
    "import os\n",
    "import dotenv\n",
    "\n",
    "\n",
    "from langchain_weaviate.vectorstores import WeaviateVectorStore\n",
    "from langchain_openai import AzureOpenAIEmbeddings\n",
    "from langchain.prompts import PromptTemplate\n",
    "from langchain.chains import RetrievalQA\n",
    "from langchain_openai.chat_models import AzureChatOpenAI  \n",
    "\n",
    "dotenv.load_dotenv(\"~/.env\")\n",
    "\n",
    "AZURE_OPENAI_API_KEY = os.getenv('OPENAI_API_KEY')\n",
    "AZURE_OPENAI_ENDPOINT = os.getenv('AZURE_OPENAI_ENDPOINT')\n",
    "AZURE_OPENAI_API_VERSION = os.getenv('AZURE_OPENAI_API_VERSION')\n",
    "AZURE_OPENAI_RESOURCE_NAME = os.getenv('AZURE_OPENAI_RESOURCE_NAME')\n",
    "\n",
    "client = weaviate.connect_to_local(\n",
    "    port=8083,\n",
    "    grpc_port=50051,\n",
    "    headers = {\n",
    "        \"X-Azure-Api-Key\": AZURE_OPENAI_API_KEY,\n",
    "    },\n",
    ")\n",
    "\n",
    "print(client.is_ready())\n"
   ]
  },
  {
   "cell_type": "code",
   "execution_count": null,
   "metadata": {},
   "outputs": [],
   "source": [
    "df = pd.read_parquet(\"compared.parquet\")\n",
    "df"
   ]
  },
  {
   "cell_type": "code",
   "execution_count": null,
   "metadata": {},
   "outputs": [],
   "source": [
    "print(df)"
   ]
  },
  {
   "cell_type": "code",
   "execution_count": null,
   "metadata": {},
   "outputs": [],
   "source": [
    "from weaviate.classes.query import Filter\n"
   ]
  },
  {
   "cell_type": "code",
   "execution_count": null,
   "metadata": {},
   "outputs": [],
   "source": [
    "COLLECTION_NAME = \"recipes\"\n",
    "collection = client.collections.get(name=COLLECTION_NAME)\n",
    "\n",
    "for item in collection.iterator():\n",
    "    print(item.uuid, item.properties)"
   ]
  },
  {
   "cell_type": "code",
   "execution_count": null,
   "metadata": {},
   "outputs": [],
   "source": [
    "COLLECTION_NAME = \"recipes\"\n",
    "collection = client.collections.get(name=COLLECTION_NAME)\n",
    "\n",
    "for document_uuid in df.document_sha.unique():\n",
    "\n",
    "    collection.data.delete_many(\n",
    "       where=Filter.by_id().contains_any(['108bda91-73bf-55ff-9c80-510e547ea471']) \n",
    "    )"
   ]
  },
  {
   "cell_type": "code",
   "execution_count": null,
   "metadata": {},
   "outputs": [],
   "source": [
    "client.collections.delete(name=COLLECTION_NAME)\n"
   ]
  },
  {
   "cell_type": "code",
   "execution_count": null,
   "metadata": {},
   "outputs": [],
   "source": []
  },
  {
   "cell_type": "code",
   "execution_count": 2,
   "metadata": {},
   "outputs": [],
   "source": [
    "import json"
   ]
  },
  {
   "cell_type": "code",
   "execution_count": 6,
   "metadata": {},
   "outputs": [],
   "source": []
  },
  {
   "cell_type": "code",
   "execution_count": 7,
   "metadata": {},
   "outputs": [
    {
     "data": {
      "text/plain": [
       "{'recipe_name': 'Pescado Polbano con Berros y Ejotes',\n",
       " 'ingredients': \"2 pizcas de sal\\n2 filetes de pescado\\n4 cucharadas de aceite\\n2 tazas de papa, cocida, pelada y cortada en cubos medianos.\\n2 tazas de ejote\\n3 cucharadas de aceite de oliva\\n2 pizcas de sal\\n1 cucharada de mantequilla\\n1 lata de crema de chile poblano, Campbell's ®\\n1 taza de berro\",\n",
       " 'instrunctions': 'Precalienta el horno a 190°c\\nUnta con sal los filetes, calienta el aceite en un sartén a fuego medio y fríe los filetes por 2 minutos. Retira del fuego y poner en una charola para horno.\\nMezcla las papas con los ejotes, aceite de oliva, orégano, sal. Extiende en la misma charola donde están los filetes y mete al horno por 10 minutos.\\nCalienta la mantequilla a fuego bajo en una ollita pequeña, agrega la crema de chile poblano más una lata de agua y cocina por 5 minutos para espesar un poco.\\nSaca del horno la charola. Sirve unas cucharadas de crema en un plato hondo, sobre esta los vegetales, coloca el filete sobre los vegetales y sobre el filete un poco berros.'}"
      ]
     },
     "execution_count": 7,
     "metadata": {},
     "output_type": "execute_result"
    }
   ],
   "source": []
  },
  {
   "cell_type": "code",
   "execution_count": null,
   "metadata": {},
   "outputs": [],
   "source": []
  },
  {
   "cell_type": "code",
   "execution_count": null,
   "metadata": {},
   "outputs": [],
   "source": []
  },
  {
   "cell_type": "code",
   "execution_count": null,
   "metadata": {},
   "outputs": [],
   "source": [
    "\n",
    "\n",
    "\n"
   ]
  },
  {
   "cell_type": "code",
   "execution_count": 20,
   "metadata": {},
   "outputs": [
    {
     "data": {
      "text/html": [
       "<div>\n",
       "<style scoped>\n",
       "    .dataframe tbody tr th:only-of-type {\n",
       "        vertical-align: middle;\n",
       "    }\n",
       "\n",
       "    .dataframe tbody tr th {\n",
       "        vertical-align: top;\n",
       "    }\n",
       "\n",
       "    .dataframe thead th {\n",
       "        text-align: right;\n",
       "    }\n",
       "</style>\n",
       "<table border=\"1\" class=\"dataframe\">\n",
       "  <thead>\n",
       "    <tr style=\"text-align: right;\">\n",
       "      <th></th>\n",
       "      <th>recipe_name</th>\n",
       "      <th>chunk</th>\n",
       "      <th>recipe_uuid</th>\n",
       "      <th>chunk_uuid</th>\n",
       "    </tr>\n",
       "  </thead>\n",
       "  <tbody>\n",
       "    <tr>\n",
       "      <th>0</th>\n",
       "      <td>pescado-poblano-con-berros-y-ejotes.json</td>\n",
       "      <td>pescado-poblano-con-berros-y-ejotes.json \\n In...</td>\n",
       "      <td>f0b28db5-e3ea-54cd-a0e5-5ebc4a48d834</td>\n",
       "      <td>87945c8d-e089-5069-b3ad-dc545890dba3</td>\n",
       "    </tr>\n",
       "    <tr>\n",
       "      <th>1</th>\n",
       "      <td>pescado-poblano-con-berros-y-ejotes.json</td>\n",
       "      <td>pescado-poblano-con-berros-y-ejotes.json \\n In...</td>\n",
       "      <td>f0b28db5-e3ea-54cd-a0e5-5ebc4a48d834</td>\n",
       "      <td>ba29ff15-5862-5af6-9ee4-094587811c18</td>\n",
       "    </tr>\n",
       "  </tbody>\n",
       "</table>\n",
       "</div>"
      ],
      "text/plain": [
       "                                recipe_name  \\\n",
       "0  pescado-poblano-con-berros-y-ejotes.json   \n",
       "1  pescado-poblano-con-berros-y-ejotes.json   \n",
       "\n",
       "                                               chunk  \\\n",
       "0  pescado-poblano-con-berros-y-ejotes.json \\n In...   \n",
       "1  pescado-poblano-con-berros-y-ejotes.json \\n In...   \n",
       "\n",
       "                            recipe_uuid                            chunk_uuid  \n",
       "0  f0b28db5-e3ea-54cd-a0e5-5ebc4a48d834  87945c8d-e089-5069-b3ad-dc545890dba3  \n",
       "1  f0b28db5-e3ea-54cd-a0e5-5ebc4a48d834  ba29ff15-5862-5af6-9ee4-094587811c18  "
      ]
     },
     "execution_count": 20,
     "metadata": {},
     "output_type": "execute_result"
    }
   ],
   "source": [
    "import pandas as pd\n",
    "import json \n",
    "from weaviate.util import \n",
    "\n",
    "\n",
    "def preprocess(path:str) -> pd.DataFrame:\n",
    "\n",
    "    files_to_process = list_files_from_fs(f\"{path}/raw\")\n",
    "\n",
    "    df = pd.DataFrame(columns=[\"recipe_name\", \"chunk\"])\n",
    "\n",
    "    for file in files_to_process:\n",
    "        with open(file, 'r') as f:\n",
    "            data = json.load(f)\n",
    "            recipe_name = file.split(\"/\")[-1]\n",
    "        df.loc[len(df)] = {\"recipe_name\": recipe_name, \"chunk\": f\"{recipe_name} \\n Ingredients:{data['ingredients']}\"}  \n",
    "        df.loc[len(df)] = {\"recipe_name\": recipe_name, \"chunk\": f\"{recipe_name} \\n Instructions:{data['instructions']}\"}  \n",
    "\n",
    "\n",
    "    df = (\n",
    "        df\n",
    "        .assign(\n",
    "            chunk = lambda df: df.chunk.astype(str).str.strip(),\n",
    "            recipe_uuid = lambda df: [generate_uuid5(file) for file in df.recipe_name],\n",
    "            chunk_uuid = lambda df: [generate_uuid5(file) for file in df.chunk],\n",
    "            \n",
    "        )\n",
    "        .reset_index(drop=True)\n",
    "    )\n",
    "\n",
    "    save_df_in_minio(df, path, \"preprocessed\")\n"
   ]
  },
  {
   "cell_type": "code",
   "execution_count": 14,
   "metadata": {},
   "outputs": [
    {
     "data": {
      "text/plain": [
       "{'recipe_name': 'Pescado Polbano con Berros y Ejotes',\n",
       " 'ingredients': \"2 pizcas de sal\\n2 filetes de pescado\\n4 cucharadas de aceite\\n2 tazas de papa, cocida, pelada y cortada en cubos medianos.\\n2 tazas de ejote\\n3 cucharadas de aceite de oliva\\n2 pizcas de sal\\n1 cucharada de mantequilla\\n1 lata de crema de chile poblano, Campbell's ®\\n1 taza de berro\",\n",
       " 'instrunctions': 'Precalienta el horno a 190°c\\nUnta con sal los filetes, calienta el aceite en un sartén a fuego medio y fríe los filetes por 2 minutos. Retira del fuego y poner en una charola para horno.\\nMezcla las papas con los ejotes, aceite de oliva, orégano, sal. Extiende en la misma charola donde están los filetes y mete al horno por 10 minutos.\\nCalienta la mantequilla a fuego bajo en una ollita pequeña, agrega la crema de chile poblano más una lata de agua y cocina por 5 minutos para espesar un poco.\\nSaca del horno la charola. Sirve unas cucharadas de crema en un plato hondo, sobre esta los vegetales, coloca el filete sobre los vegetales y sobre el filete un poco berros.'}"
      ]
     },
     "execution_count": 14,
     "metadata": {},
     "output_type": "execute_result"
    }
   ],
   "source": [
    "data"
   ]
  }
 ],
 "metadata": {
  "kernelspec": {
   "display_name": ".venv",
   "language": "python",
   "name": "python3"
  },
  "language_info": {
   "codemirror_mode": {
    "name": "ipython",
    "version": 3
   },
   "file_extension": ".py",
   "mimetype": "text/x-python",
   "name": "python",
   "nbconvert_exporter": "python",
   "pygments_lexer": "ipython3",
   "version": "3.12.4"
  }
 },
 "nbformat": 4,
 "nbformat_minor": 2
}
