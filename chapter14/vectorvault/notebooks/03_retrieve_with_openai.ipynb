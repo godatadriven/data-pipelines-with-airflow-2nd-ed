{
 "cells": [
  {
   "cell_type": "code",
   "execution_count": null,
   "metadata": {},
   "outputs": [],
   "source": [
    "import weaviate\n",
    "from weaviate.config import AdditionalConfig\n",
    "from weaviate.classes.config import Configure\n",
    "\n",
    "import json\n",
    "import pandas as pd\n",
    "import numpy as np\n",
    "import os\n",
    "import dotenv\n",
    "\n",
    "\n",
    "from langchain_weaviate.vectorstores import WeaviateVectorStore\n",
    "from langchain_openai import AzureOpenAIEmbeddings\n",
    "from langchain.prompts import PromptTemplate\n",
    "from langchain.chains import RetrievalQA\n",
    "from langchain_openai.chat_models import AzureChatOpenAI  \n",
    "\n",
    "dotenv.load_dotenv(\"~/.env\")\n",
    "\n",
    "AZURE_OPENAI_API_KEY = os.getenv('OPENAI_API_KEY')\n",
    "AZURE_OPENAI_ENDPOINT = os.getenv('AZURE_OPENAI_ENDPOINT')\n",
    "AZURE_OPENAI_API_VERSION = os.getenv('AZURE_OPENAI_API_VERSION')\n",
    "AZURE_OPENAI_RESOURCE_NAME = os.getenv('AZURE_OPENAI_RESOURCE_NAME')\n",
    "\n",
    "client = weaviate.connect_to_local(\n",
    "    port=8083,\n",
    "    grpc_port=50051,\n",
    "    headers = {\n",
    "        \"X-Azure-Api-Key\": AZURE_OPENAI_API_KEY,\n",
    "    },\n",
    ")\n",
    "\n",
    "print(client.is_ready())\n"
   ]
  },
  {
   "cell_type": "code",
   "execution_count": null,
   "metadata": {},
   "outputs": [],
   "source": [
    "df = pd.read_parquet(\"compared.parquet\")\n",
    "df"
   ]
  },
  {
   "cell_type": "code",
   "execution_count": null,
   "metadata": {},
   "outputs": [],
   "source": [
    "print(df)"
   ]
  },
  {
   "cell_type": "code",
   "execution_count": null,
   "metadata": {},
   "outputs": [],
   "source": [
    "from weaviate.classes.query import Filter\n"
   ]
  },
  {
   "cell_type": "code",
   "execution_count": null,
   "metadata": {},
   "outputs": [],
   "source": [
    "COLLECTION_NAME = \"recipes\"\n",
    "collection = client.collections.get(name=COLLECTION_NAME)\n",
    "\n",
    "for item in collection.iterator():\n",
    "    print(item.uuid, item.properties)"
   ]
  },
  {
   "cell_type": "code",
   "execution_count": null,
   "metadata": {},
   "outputs": [],
   "source": [
    "COLLECTION_NAME = \"recipes\"\n",
    "collection = client.collections.get(name=COLLECTION_NAME)\n",
    "\n",
    "for document_uuid in df.document_sha.unique():\n",
    "\n",
    "    collection.data.delete_many(\n",
    "       where=Filter.by_id().contains_any(['108bda91-73bf-55ff-9c80-510e547ea471']) \n",
    "    )"
   ]
  },
  {
   "cell_type": "code",
   "execution_count": null,
   "metadata": {},
   "outputs": [],
   "source": [
    "from weaviate.util import generate_uuid5\n",
    "generate_uuid5(\"hola\")"
   ]
  },
  {
   "cell_type": "code",
   "execution_count": null,
   "metadata": {},
   "outputs": [],
   "source": [
    "client.collections.delete(name=\"recipes\")"
   ]
  },
  {
   "cell_type": "code",
   "execution_count": null,
   "metadata": {},
   "outputs": [],
   "source": [
    "import pandas as pd\n",
    "df = pd.read_parquet(\"/Users/ismael.cabral/repos/data-pipelines-with-airflow-2nd-ed/chapter13/vectorvault/notebooks/preprocessed.parquet\")\n",
    "\n",
    "\n",
    "df.loc[:,[\"recipe_uuid\", \"recipe_name\", \"chunk_uuid\", \"chunk\"]]"
   ]
  },
  {
   "cell_type": "code",
   "execution_count": null,
   "metadata": {},
   "outputs": [],
   "source": [
    "import pandas as pd\n",
    "df = pd.read_parquet(\"/Users/ismael.cabral/repos/data-pipelines-with-airflow-2nd-ed/chapter13/vectorvault/notebooks/compared.parquet\")\n",
    "\n",
    "\n",
    "df.loc[:,[\"recipe_uuid\", \"recipe_name\", \"chunk_uuid\", \"chunk\"]]"
   ]
  },
  {
   "cell_type": "code",
   "execution_count": null,
   "metadata": {},
   "outputs": [],
   "source": [
    "from weaviate.util import generate_uuid5\n"
   ]
  },
  {
   "cell_type": "code",
   "execution_count": null,
   "metadata": {},
   "outputs": [],
   "source": [
    "text = \"\"\"\n",
    "    Cheese Cake Recipe\n",
    "    Ingredients:\n",
    "    - 2 cups of cream cheese\n",
    "    - 1 cup of sugar\n",
    "    - 2 eggs\n",
    "    - 1 cup of vanilla extract\n",
    "\n",
    "    Instructions:\n",
    "    1. Mix all ingredients in a bowl\n",
    "    2. Pour mixture into a baking pan\n",
    "    3. Bake at 350 degrees for 30 minutes\n",
    "\"\"\"\n",
    "\n",
    "generate_uuid5(text)"
   ]
  },
  {
   "cell_type": "code",
   "execution_count": null,
   "metadata": {},
   "outputs": [],
   "source": [
    "text = \"\"\"\n",
    "    Cheese Cake Recipe\n",
    "    Ingredients:\n",
    "    - 2 cups of cream cheese\n",
    "    - 1 cup of sugar\n",
    "    - 3 eggs\n",
    "    - 1 cup of vanilla extract\n",
    "\n",
    "    Instructions:\n",
    "    1. Mix all ingredients in a bowl\n",
    "    2. Pour mixture into a baking pan\n",
    "    3. Bake at 350 degrees for 30 minutes\n",
    "\"\"\"\n",
    "\n",
    "generate_uuid5(text)"
   ]
  },
  {
   "cell_type": "code",
   "execution_count": null,
   "metadata": {},
   "outputs": [],
   "source": [
    "\n",
    "\n",
    "\n",
    "files_to_process = [\n",
    "    {\n",
    "        \"recipe_name\": \"Avo & Toast\",\n",
    "        \"ingredients\": \"- Avocado\\n- Bread\",\n",
    "        \"instructions\": \"Mash the avocado and spread it on toasted bread.\"\n",
    "    },\n",
    "    {\n",
    "        \"recipe_name\": \"Sushi\",\n",
    "        \"ingredients\": \"- Rice\\n- Fish\",\n",
    "        \"instructions\": \"Cook the rice. Cut the fish in pieces and make rolls.\"\n",
    "    }\n",
    "]\n"
   ]
  },
  {
   "cell_type": "code",
   "execution_count": null,
   "metadata": {},
   "outputs": [],
   "source": [
    "\n",
    "chunks = []\n",
    "for file in files_to_process:\n",
    "\n",
    "    recipe_name = file['recipe_name']\n",
    "\n",
    "    ingredients = file.get('ingredients', 'No ingredients found')\n",
    "    instructions = file.get('instructions', 'No instructions found')\n",
    "    \n",
    "    chunks.append({\"recipe_name\": recipe_name, \"chunk\": f\"{recipe_name} \\n Ingredients: {ingredients}\"})\n",
    "    chunks.append({\"recipe_name\": recipe_name, \"chunk\": f\"{recipe_name} \\n Instructions: {instructions}\"})\n",
    "\n",
    "pd.DataFrame(chunks)"
   ]
  },
  {
   "cell_type": "code",
   "execution_count": null,
   "metadata": {},
   "outputs": [],
   "source": []
  },
  {
   "cell_type": "markdown",
   "metadata": {},
   "source": []
  }
 ],
 "metadata": {
  "kernelspec": {
   "display_name": ".venv",
   "language": "python",
   "name": "python3"
  },
  "language_info": {
   "codemirror_mode": {
    "name": "ipython",
    "version": 3
   },
   "file_extension": ".py",
   "mimetype": "text/x-python",
   "name": "python",
   "nbconvert_exporter": "python",
   "pygments_lexer": "ipython3",
   "version": "3.12.4"
  }
 },
 "nbformat": 4,
 "nbformat_minor": 2
}
